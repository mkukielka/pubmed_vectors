{
 "cells": [
  {
   "cell_type": "code",
   "execution_count": 1,
   "metadata": {},
   "outputs": [],
   "source": [
    "import networkx as nx\n",
    "from collections import defaultdict\n",
    "from google.cloud import translate\n",
    "from joblib import Parallel, delayed"
   ]
  },
  {
   "cell_type": "code",
   "execution_count": 2,
   "metadata": {},
   "outputs": [],
   "source": [
    "def get_icd10_codes():\n",
    "    icd10 = defaultdict()\n",
    "    with open('../results/icd10cm_codes_2018.txt', 'r+') as f:\n",
    "        for line in f.readlines():\n",
    "            line = line.split()\n",
    "            icd10[line[0].lower()] = ' '.join(line[1:]).lower()\n",
    "        return icd10\n",
    "\n",
    "def retrieve_titles_for_subgraph(graph, icd10, min_nodes=3):\n",
    "    subgraphs = list(nx.connected_component_subgraphs(graph))\n",
    "    results = defaultdict(list)\n",
    "    for subgraph in subgraphs:\n",
    "        nodes = subgraph.nodes()\n",
    "        if len(nodes) >= min_nodes:\n",
    "            results[', '.join(nodes.keys())] = [icd10[node] for node in nodes]\n",
    "    return results"
   ]
  },
  {
   "cell_type": "code",
   "execution_count": 3,
   "metadata": {},
   "outputs": [],
   "source": [
    "icd10 = get_icd10_codes()"
   ]
  },
  {
   "cell_type": "code",
   "execution_count": 4,
   "metadata": {},
   "outputs": [],
   "source": [
    "graph = nx.read_edgelist('doc2vec_analysis/graph1000')"
   ]
  },
  {
   "cell_type": "code",
   "execution_count": 5,
   "metadata": {
    "scrolled": true
   },
   "outputs": [],
   "source": [
    "described_relations = retrieve_titles_for_subgraph(graph, icd10)"
   ]
  },
  {
   "cell_type": "code",
   "execution_count": 12,
   "metadata": {},
   "outputs": [],
   "source": [
    "def get_translation_of_title(title, translate_client):\n",
    "    try:\n",
    "        translation = translate_client.translate(title, target_language='pl')\n",
    "        return translation['translatedText']\n",
    "    except:\n",
    "        return None"
   ]
  },
  {
   "cell_type": "code",
   "execution_count": 13,
   "metadata": {},
   "outputs": [],
   "source": [
    "def get_translation_of_titles(keys, titles):\n",
    "    polish_titles = []\n",
    "    for index, title in enumerate(titles):\n",
    "        translation = get_translation_of_title(title, translate_client)\n",
    "        if translation:\n",
    "            polish_titles.append(translation)\n",
    "        else:\n",
    "            polish_titles.append(title)\n",
    "            print('Could not have retrieved translation for {}: {}'.format(keys.split(', ')[index], title))\n",
    "    return (keys, polish_titles)"
   ]
  },
  {
   "cell_type": "code",
   "execution_count": null,
   "metadata": {
    "scrolled": true
   },
   "outputs": [
    {
     "name": "stdout",
     "output_type": "stream",
     "text": [
      "[Parallel(n_jobs=-1)]: Using backend ThreadingBackend with 4 concurrent workers.\n",
      "[Parallel(n_jobs=-1)]: Done   1 tasks      | elapsed:    0.7s\n",
      "[Parallel(n_jobs=-1)]: Done   2 tasks      | elapsed:    0.8s\n",
      "[Parallel(n_jobs=-1)]: Done   3 tasks      | elapsed:    0.8s\n",
      "[Parallel(n_jobs=-1)]: Done   4 tasks      | elapsed:    0.9s\n",
      "[Parallel(n_jobs=-1)]: Done   5 tasks      | elapsed:    1.6s\n",
      "[Parallel(n_jobs=-1)]: Done   6 tasks      | elapsed:    1.7s\n",
      "[Parallel(n_jobs=-1)]: Done   7 tasks      | elapsed:    1.7s\n",
      "[Parallel(n_jobs=-1)]: Done   8 tasks      | elapsed:    1.8s\n",
      "[Parallel(n_jobs=-1)]: Done   9 tasks      | elapsed:    2.4s\n",
      "[Parallel(n_jobs=-1)]: Done  10 tasks      | elapsed:    2.4s\n",
      "[Parallel(n_jobs=-1)]: Done  11 tasks      | elapsed:    2.6s\n",
      "[Parallel(n_jobs=-1)]: Done  12 tasks      | elapsed:    2.7s\n",
      "[Parallel(n_jobs=-1)]: Done  13 tasks      | elapsed:    3.3s\n",
      "[Parallel(n_jobs=-1)]: Done  14 tasks      | elapsed:    3.3s\n",
      "[Parallel(n_jobs=-1)]: Done  15 tasks      | elapsed:    3.4s\n",
      "[Parallel(n_jobs=-1)]: Done  16 tasks      | elapsed:    3.8s\n",
      "[Parallel(n_jobs=-1)]: Done  17 tasks      | elapsed:    4.0s\n",
      "[Parallel(n_jobs=-1)]: Done  18 tasks      | elapsed:    4.1s\n",
      "[Parallel(n_jobs=-1)]: Done  19 tasks      | elapsed:    4.4s\n",
      "[Parallel(n_jobs=-1)]: Done  20 tasks      | elapsed:    4.7s\n",
      "[Parallel(n_jobs=-1)]: Done  21 tasks      | elapsed:    4.8s\n",
      "[Parallel(n_jobs=-1)]: Done  22 tasks      | elapsed:    4.8s\n",
      "[Parallel(n_jobs=-1)]: Done  23 tasks      | elapsed:    5.3s\n",
      "[Parallel(n_jobs=-1)]: Done  24 tasks      | elapsed:    5.5s\n",
      "[Parallel(n_jobs=-1)]: Done  25 tasks      | elapsed:    5.6s\n",
      "[Parallel(n_jobs=-1)]: Done  26 tasks      | elapsed:    5.7s\n",
      "[Parallel(n_jobs=-1)]: Done  27 tasks      | elapsed:    6.2s\n",
      "[Parallel(n_jobs=-1)]: Done  28 tasks      | elapsed:    6.2s\n",
      "[Parallel(n_jobs=-1)]: Done  29 tasks      | elapsed:    6.4s\n",
      "[Parallel(n_jobs=-1)]: Done  30 tasks      | elapsed:    6.5s\n",
      "[Parallel(n_jobs=-1)]: Done  31 tasks      | elapsed:    7.0s\n",
      "[Parallel(n_jobs=-1)]: Done  32 tasks      | elapsed:    7.0s\n",
      "[Parallel(n_jobs=-1)]: Done  33 tasks      | elapsed:    7.3s\n",
      "[Parallel(n_jobs=-1)]: Done  34 tasks      | elapsed:    7.3s\n"
     ]
    }
   ],
   "source": [
    "polish_titles = Parallel(n_jobs=-1, backend='threading', verbose=50)(\n",
    "    delayed(get_translation_of_titles)(keys, titles) for keys, titles in described_relations.items())"
   ]
  },
  {
   "cell_type": "code",
   "execution_count": 9,
   "metadata": {},
   "outputs": [],
   "source": []
  },
  {
   "cell_type": "code",
   "execution_count": null,
   "metadata": {},
   "outputs": [],
   "source": []
  }
 ],
 "metadata": {
  "kernelspec": {
   "display_name": "Python 3",
   "language": "python",
   "name": "python3"
  },
  "language_info": {
   "codemirror_mode": {
    "name": "ipython",
    "version": 3
   },
   "file_extension": ".py",
   "mimetype": "text/x-python",
   "name": "python",
   "nbconvert_exporter": "python",
   "pygments_lexer": "ipython3",
   "version": "3.5.1"
  }
 },
 "nbformat": 4,
 "nbformat_minor": 2
}
