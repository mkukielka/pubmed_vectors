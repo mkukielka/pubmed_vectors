{
 "cells": [
  {
   "cell_type": "code",
   "execution_count": 1,
   "metadata": {},
   "outputs": [],
   "source": [
    "import networkx as nx\n",
    "from collections import defaultdict\n",
    "from google.cloud import translate\n",
    "from joblib import Parallel, delayed"
   ]
  },
  {
   "cell_type": "code",
   "execution_count": 2,
   "metadata": {},
   "outputs": [],
   "source": [
    "def get_icd10_codes():\n",
    "    icd10 = defaultdict()\n",
    "    with open('../results/icd10cm_codes_2018.txt', 'r+') as f:\n",
    "        for line in f.readlines():\n",
    "            line = line.split()\n",
    "            icd10[line[0].lower()] = ' '.join(line[1:]).lower()\n",
    "        return icd10\n",
    "\n",
    "def retrieve_titles_for_subgraph(graph, icd10, min_nodes=3):\n",
    "    subgraphs = list(nx.connected_component_subgraphs(graph))\n",
    "    results = defaultdict(list)\n",
    "    for subgraph in subgraphs:\n",
    "        nodes = subgraph.nodes()\n",
    "        if len(nodes) >= min_nodes:\n",
    "            results[', '.join(nodes.keys())] = [icd10[node] for node in nodes]\n",
    "    return results"
   ]
  },
  {
   "cell_type": "code",
   "execution_count": 3,
   "metadata": {},
   "outputs": [],
   "source": [
    "icd10 = get_icd10_codes()"
   ]
  },
  {
   "cell_type": "markdown",
   "metadata": {},
   "source": [
    "Load graph"
   ]
  },
  {
   "cell_type": "code",
   "execution_count": 20,
   "metadata": {},
   "outputs": [],
   "source": [
    "# graph = nx.read_edgelist('glove_analysis/graph_glove_1000')\n",
    "graph = nx.read_edgelist('doc2vec_analysis/graph1000')"
   ]
  },
  {
   "cell_type": "code",
   "execution_count": 21,
   "metadata": {
    "scrolled": true
   },
   "outputs": [],
   "source": [
    "described_relations = retrieve_titles_for_subgraph(graph, icd10)"
   ]
  },
  {
   "cell_type": "markdown",
   "metadata": {},
   "source": [
    "Retrieve translations"
   ]
  },
  {
   "cell_type": "code",
   "execution_count": 15,
   "metadata": {},
   "outputs": [],
   "source": [
    "def get_translation_of_title(title, translate_client):\n",
    "    try:\n",
    "        translation = translate_client.translate(title, target_language='pl')\n",
    "        return translation['translatedText']\n",
    "    except:\n",
    "        return None"
   ]
  },
  {
   "cell_type": "code",
   "execution_count": 16,
   "metadata": {},
   "outputs": [],
   "source": [
    "def get_translation_of_titles(keys, titles, translate_client):\n",
    "    polish_titles = []\n",
    "    for index, title in enumerate(titles):\n",
    "        translation = get_translation_of_title(title, translate_client)\n",
    "        if translation:\n",
    "            polish_titles.append(translation)\n",
    "        else:\n",
    "            polish_titles.append(title)\n",
    "            print('Could not have retrieved translation for {}: {}'.format(keys.split(', ')[index], title))\n",
    "    return (keys, polish_titles)"
   ]
  },
  {
   "cell_type": "code",
   "execution_count": 17,
   "metadata": {
    "scrolled": true
   },
   "outputs": [
    {
     "name": "stdout",
     "output_type": "stream",
     "text": [
      "[Parallel(n_jobs=-1)]: Using backend ThreadingBackend with 4 concurrent workers.\n",
      "[Parallel(n_jobs=-1)]: Done   1 tasks      | elapsed:    0.9s\n",
      "[Parallel(n_jobs=-1)]: Done   2 out of   6 | elapsed:    1.0s remaining:    1.9s\n",
      "[Parallel(n_jobs=-1)]: Done   3 out of   6 | elapsed:    1.0s remaining:    1.0s\n",
      "[Parallel(n_jobs=-1)]: Done   4 out of   6 | elapsed:    1.0s remaining:    0.5s\n",
      "[Parallel(n_jobs=-1)]: Done   6 out of   6 | elapsed:    1.4s remaining:    0.0s\n",
      "[Parallel(n_jobs=-1)]: Done   6 out of   6 | elapsed:    1.4s finished\n"
     ]
    }
   ],
   "source": [
    "translate_client = translate.Client()\n",
    "polish_titles = Parallel(n_jobs=-1, backend='threading', verbose=50)(\n",
    "    delayed(get_translation_of_titles)(keys, titles, translate_client) for keys, titles in described_relations.items())"
   ]
  },
  {
   "cell_type": "code",
   "execution_count": 18,
   "metadata": {},
   "outputs": [
    {
     "data": {
      "text/plain": [
       "[('k279, p139, d135',\n",
       "  ['wrzód trawienny, miejsce nieokreślone, nieokreślone jako ostre lub przewlekłe, bez krwotoku lub perforacji',\n",
       "   'uraz urodzenia szkieletu, nieokreślony',\n",
       "   'łagodny nowotwór zewnątrzwątrobowych przewodów żółciowych']),\n",
       " ('f88, c721, a302',\n",
       "  ['inne zaburzenia rozwoju psychologicznego',\n",
       "   'nowotwór złośliwy ogona końskiego',\n",
       "   'graniczny trąd gruźliczy']),\n",
       " ('j64, p132, q143',\n",
       "  ['nieokreślona pylica płuc',\n",
       "   'uraz urodzenia kości udowej',\n",
       "   'wrodzone wady rozwojowe naczyniówki']),\n",
       " ('p0229, g113, m270',\n",
       "  ['noworodka dotkniętego innymi morfologicznymi i funkcjonalnymi nieprawidłowościami łożyska',\n",
       "   'ataksja móżdżkowa z wadliwą naprawą DNA',\n",
       "   'zaburzenia rozwojowe szczęk']),\n",
       " ('c163, c52, c494',\n",
       "  ['złośliwy nowotwór odźwiernika',\n",
       "   'nowotwór złośliwy pochwy',\n",
       "   'nowotwór złośliwy tkanki łącznej i miękkiej brzucha']),\n",
       " ('m5114, g619, m179',\n",
       "  ['zaburzenia krążka międzykręgowego z radikulopatią, region piersiowy',\n",
       "   'polineuropatia zapalna, nieokreślona',\n",
       "   'choroba zwyrodnieniowa stawów kolanowych, nieokreślona'])]"
      ]
     },
     "execution_count": 18,
     "metadata": {},
     "output_type": "execute_result"
    }
   ],
   "source": [
    "polish_titles"
   ]
  },
  {
   "cell_type": "markdown",
   "metadata": {},
   "source": [
    "Saving translated relations"
   ]
  },
  {
   "cell_type": "code",
   "execution_count": 19,
   "metadata": {},
   "outputs": [],
   "source": [
    "with open('glove_analysis/translated_relations_glove_1000', 'w+') as output_file:  \n",
    "    for keys, titles in polish_titles:\n",
    "        output_file.write('{}:\\n'.format(keys))\n",
    "        output_file.write('{}\\n'.format('\\n'.join(titles)))\n",
    "        output_file.write('\\n')"
   ]
  },
  {
   "cell_type": "code",
   "execution_count": null,
   "metadata": {},
   "outputs": [],
   "source": []
  }
 ],
 "metadata": {
  "kernelspec": {
   "display_name": "Python 3",
   "language": "python",
   "name": "python3"
  },
  "language_info": {
   "codemirror_mode": {
    "name": "ipython",
    "version": 3
   },
   "file_extension": ".py",
   "mimetype": "text/x-python",
   "name": "python",
   "nbconvert_exporter": "python",
   "pygments_lexer": "ipython3",
   "version": "3.5.1"
  }
 },
 "nbformat": 4,
 "nbformat_minor": 2
}
