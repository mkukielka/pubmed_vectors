{
 "cells": [
  {
   "cell_type": "code",
   "execution_count": null,
   "metadata": {},
   "outputs": [],
   "source": [
    "import networkx as nx\n",
    "from collections import defaultdict\n",
    "from google.cloud import translate\n",
    "from joblib import Parallel, delayed"
   ]
  },
  {
   "cell_type": "code",
   "execution_count": null,
   "metadata": {},
   "outputs": [],
   "source": [
    "%%bash\n",
    "export GOOGLE_APPLICATION_CREDENTIALS=\"/Users/michalkukielka/Downloads/My First Project-6d2d0241b71d.json\""
   ]
  },
  {
   "cell_type": "code",
   "execution_count": null,
   "metadata": {},
   "outputs": [],
   "source": [
    "def get_icd10_codes():\n",
    "    icd10 = defaultdict()\n",
    "    with open('../results/icd10cm_codes_2018.txt', 'r+') as f:\n",
    "        for line in f.readlines():\n",
    "            line = line.split()\n",
    "            icd10[line[0].lower()] = ' '.join(line[1:]).lower()\n",
    "        return icd10\n",
    "\n",
    "def retrieve_titles_for_subgraph(graph, icd10, min_nodes=3):\n",
    "    subgraphs = list(nx.connected_component_subgraphs(graph))\n",
    "    results = defaultdict(list)\n",
    "    for subgraph in subgraphs:\n",
    "        nodes = subgraph.nodes()\n",
    "        if len(nodes) >= min_nodes:\n",
    "            results[', '.join(nodes.keys())] = [icd10[node] for node in nodes]\n",
    "    return results"
   ]
  },
  {
   "cell_type": "code",
   "execution_count": null,
   "metadata": {},
   "outputs": [],
   "source": [
    "icd10 = get_icd10_codes()"
   ]
  },
  {
   "cell_type": "markdown",
   "metadata": {},
   "source": [
    "Load graph"
   ]
  },
  {
   "cell_type": "code",
   "execution_count": null,
   "metadata": {},
   "outputs": [],
   "source": [
    "# graph = nx.read_edgelist('glove_analysis/150/graph_glove_1000')\n",
    "graph = nx.read_edgelist('doc2vec_analysis/150/graph_1000')"
   ]
  },
  {
   "cell_type": "code",
   "execution_count": null,
   "metadata": {
    "scrolled": true
   },
   "outputs": [],
   "source": [
    "described_relations = retrieve_titles_for_subgraph(graph, icd10)"
   ]
  },
  {
   "cell_type": "markdown",
   "metadata": {},
   "source": [
    "Retrieve translations"
   ]
  },
  {
   "cell_type": "code",
   "execution_count": null,
   "metadata": {},
   "outputs": [],
   "source": [
    "def get_translation_of_title(title, translate_client):\n",
    "    try:\n",
    "        translation = translate_client.translate(title, target_language='pl')\n",
    "        return translation['translatedText']\n",
    "    except:\n",
    "        return None"
   ]
  },
  {
   "cell_type": "code",
   "execution_count": null,
   "metadata": {},
   "outputs": [],
   "source": [
    "def get_translation_of_titles(keys, titles, translate_client):\n",
    "    polish_titles = []\n",
    "    for index, title in enumerate(titles):\n",
    "        translation = get_translation_of_title(title, translate_client)\n",
    "        if translation:\n",
    "            polish_titles.append(translation)\n",
    "        else:\n",
    "            polish_titles.append(title)\n",
    "            print('Could not have retrieved translation for {}: {}'.format(keys.split(', ')[index], title))\n",
    "    return (keys, polish_titles)"
   ]
  },
  {
   "cell_type": "code",
   "execution_count": null,
   "metadata": {},
   "outputs": [],
   "source": [
    "translate_client = translate.Client()\n",
    "polish_titles = Parallel(n_jobs=-1, backend='threading', verbose=50)(\n",
    "    delayed(get_translation_of_titles)(keys, titles, translate_client) for keys, titles in described_relations.items())"
   ]
  },
  {
   "cell_type": "markdown",
   "metadata": {},
   "source": [
    "Saving translated relations"
   ]
  },
  {
   "cell_type": "code",
   "execution_count": null,
   "metadata": {},
   "outputs": [],
   "source": [
    "# with open('glove_analysis/150/translated_relations_glove_1000', 'w+') as output_file:  \n",
    "with open('doc2vec_analysis/150/translated_relations_doc2vec_1000', 'w+') as output_file:  \n",
    "    for keys, titles in polish_titles:\n",
    "        output_file.write('{}:\\n'.format(keys))\n",
    "        output_file.write('{}\\n'.format('\\n'.join(titles)))\n",
    "        output_file.write('\\n')"
   ]
  }
 ],
 "metadata": {
  "kernelspec": {
   "display_name": "Python 3",
   "language": "python",
   "name": "python3"
  },
  "language_info": {
   "codemirror_mode": {
    "name": "ipython",
    "version": 3
   },
   "file_extension": ".py",
   "mimetype": "text/x-python",
   "name": "python",
   "nbconvert_exporter": "python",
   "pygments_lexer": "ipython3",
   "version": "3.5.1"
  }
 },
 "nbformat": 4,
 "nbformat_minor": 2
}
