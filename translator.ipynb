{
 "cells": [
  {
   "cell_type": "code",
   "execution_count": 9,
   "metadata": {},
   "outputs": [],
   "source": [
    "import networkx as nx\n",
    "from collections import defaultdict\n",
    "from google.cloud import translate\n",
    "from joblib import Parallel, delayed"
   ]
  },
  {
   "cell_type": "code",
   "execution_count": 2,
   "metadata": {},
   "outputs": [],
   "source": [
    "def get_icd10_codes():\n",
    "    icd10 = defaultdict()\n",
    "    with open('../results/icd10cm_codes_2018.txt', 'r+') as f:\n",
    "        for line in f.readlines():\n",
    "            line = line.split()\n",
    "            icd10[line[0].lower()] = ' '.join(line[1:]).lower()\n",
    "        return icd10\n",
    "\n",
    "def retrieve_titles_for_subgraph(graph, icd10, min_nodes=3):\n",
    "    subgraphs = list(nx.connected_component_subgraphs(graph))\n",
    "    results = defaultdict(list)\n",
    "    for subgraph in subgraphs:\n",
    "        nodes = subgraph.nodes()\n",
    "        if len(nodes) >= min_nodes:\n",
    "            results[', '.join(nodes.keys())] = [icd10[node] for node in nodes]\n",
    "    return results"
   ]
  },
  {
   "cell_type": "code",
   "execution_count": 3,
   "metadata": {},
   "outputs": [],
   "source": [
    "icd10 = get_icd10_codes()"
   ]
  },
  {
   "cell_type": "code",
   "execution_count": 4,
   "metadata": {},
   "outputs": [],
   "source": [
    "graph = nx.read_edgelist('doc2vec_analysis/graph1000')"
   ]
  },
  {
   "cell_type": "code",
   "execution_count": 5,
   "metadata": {
    "scrolled": true
   },
   "outputs": [],
   "source": [
    "described_relations = retrieve_titles_for_subgraph(graph, icd10)"
   ]
  },
  {
   "cell_type": "code",
   "execution_count": 6,
   "metadata": {},
   "outputs": [],
   "source": [
    "def get_translation_of_title(title):\n",
    "    try:\n",
    "        translate_client = translate.Client()\n",
    "        translation = translate_client.translate(title, target_language='pl')\n",
    "        return translation['translatedText']\n",
    "    except:\n",
    "        return None"
   ]
  },
  {
   "cell_type": "code",
   "execution_count": 7,
   "metadata": {},
   "outputs": [],
   "source": [
    "def get_translation_of_titles(keys, titles):\n",
    "    polish_titles = []\n",
    "    for index, title in enumerate(titles):\n",
    "        translation = get_translation_of_title(title)\n",
    "        if translation:\n",
    "            polish_titles.append(translation)\n",
    "        else:\n",
    "            polish_titles.append(title)\n",
    "            print('Could not have retrieved translation for {}: {}'.format(keys.split(', ')[index], title))\n",
    "    return (keys, polish_titles)"
   ]
  },
  {
   "cell_type": "code",
   "execution_count": null,
   "metadata": {
    "scrolled": true
   },
   "outputs": [
    {
     "name": "stdout",
     "output_type": "stream",
     "text": [
      "[Parallel(n_jobs=-1)]: Using backend ThreadingBackend with 4 concurrent workers.\n",
      "[Parallel(n_jobs=-1)]: Done   1 tasks      | elapsed:   19.8s\n",
      "[Parallel(n_jobs=-1)]: Done   2 tasks      | elapsed:   23.2s\n",
      "[Parallel(n_jobs=-1)]: Done   3 tasks      | elapsed:   23.5s\n",
      "[Parallel(n_jobs=-1)]: Done   4 tasks      | elapsed:   24.1s\n",
      "[Parallel(n_jobs=-1)]: Done   5 tasks      | elapsed:   24.2s\n",
      "[Parallel(n_jobs=-1)]: Done   6 tasks      | elapsed:   28.1s\n",
      "[Parallel(n_jobs=-1)]: Done   7 tasks      | elapsed:   29.1s\n",
      "[Parallel(n_jobs=-1)]: Done   8 tasks      | elapsed:   29.1s\n",
      "[Parallel(n_jobs=-1)]: Done   9 tasks      | elapsed:   29.5s\n",
      "[Parallel(n_jobs=-1)]: Done  10 tasks      | elapsed:   31.4s\n",
      "[Parallel(n_jobs=-1)]: Done  11 tasks      | elapsed:   35.8s\n",
      "Could not have retrieved translation for c158: malignant neoplasm of overlapping sites of esophagus\n",
      "[Parallel(n_jobs=-1)]: Done  12 tasks      | elapsed:   37.6s\n",
      "[Parallel(n_jobs=-1)]: Done  13 tasks      | elapsed:   37.6s\n",
      "[Parallel(n_jobs=-1)]: Done  14 tasks      | elapsed:   43.0s\n",
      "Could not have retrieved translation for d267: other benign neoplasm of other parts of uterus\n",
      "[Parallel(n_jobs=-1)]: Done  15 tasks      | elapsed:   44.4s\n",
      "[Parallel(n_jobs=-1)]: Done  16 tasks      | elapsed:   44.5s\n",
      "[Parallel(n_jobs=-1)]: Done  17 tasks      | elapsed:   44.8s\n",
      "Could not have retrieved translation for p540: neonatal hematemesis\n",
      "[Parallel(n_jobs=-1)]: Done  18 tasks      | elapsed:   51.5s\n",
      "Could not have retrieved translation for b700: diphyllobothriasis\n",
      "[Parallel(n_jobs=-1)]: Done  19 tasks      | elapsed:   52.5s\n",
      "[Parallel(n_jobs=-1)]: Done  20 tasks      | elapsed:   52.7s\n",
      "[Parallel(n_jobs=-1)]: Done  21 tasks      | elapsed:   52.8s\n",
      "Could not have retrieved translation for t300: burn of unspecified body region, unspecified degree\n",
      "[Parallel(n_jobs=-1)]: Done  22 tasks      | elapsed:   58.2s\n",
      "Could not have retrieved translation for r419: unspecified symptoms and signs involving cognitive functions and awareness\n",
      "[Parallel(n_jobs=-1)]: Done  23 tasks      | elapsed:  1.3min\n",
      "[Parallel(n_jobs=-1)]: Done  24 tasks      | elapsed:  1.4min\n",
      "Could not have retrieved translation for d249: benign neoplasm of unspecified breast\n",
      "[Parallel(n_jobs=-1)]: Done  25 tasks      | elapsed:  1.7min\n",
      "[Parallel(n_jobs=-1)]: Done  26 tasks      | elapsed:  1.8min\n",
      "[Parallel(n_jobs=-1)]: Done  27 tasks      | elapsed:  1.8min\n",
      "[Parallel(n_jobs=-1)]: Done  28 tasks      | elapsed:  1.8min\n",
      "[Parallel(n_jobs=-1)]: Done  29 tasks      | elapsed:  1.9min\n",
      "[Parallel(n_jobs=-1)]: Done  30 tasks      | elapsed:  1.9min\n",
      "[Parallel(n_jobs=-1)]: Done  31 tasks      | elapsed:  1.9min\n",
      "[Parallel(n_jobs=-1)]: Done  32 tasks      | elapsed:  2.0min\n",
      "[Parallel(n_jobs=-1)]: Done  33 tasks      | elapsed:  2.0min\n",
      "[Parallel(n_jobs=-1)]: Done  34 tasks      | elapsed:  2.0min\n",
      "[Parallel(n_jobs=-1)]: Done  35 tasks      | elapsed:  2.2min\n",
      "[Parallel(n_jobs=-1)]: Done  36 tasks      | elapsed:  2.2min\n",
      "[Parallel(n_jobs=-1)]: Done  37 tasks      | elapsed:  2.2min\n",
      "[Parallel(n_jobs=-1)]: Done  38 tasks      | elapsed:  2.3min\n",
      "[Parallel(n_jobs=-1)]: Done  39 tasks      | elapsed:  2.4min\n",
      "[Parallel(n_jobs=-1)]: Done  40 tasks      | elapsed:  2.4min\n",
      "[Parallel(n_jobs=-1)]: Done  41 tasks      | elapsed:  2.5min\n",
      "[Parallel(n_jobs=-1)]: Done  42 tasks      | elapsed:  2.5min\n",
      "[Parallel(n_jobs=-1)]: Done  43 tasks      | elapsed:  2.5min\n",
      "[Parallel(n_jobs=-1)]: Done  44 tasks      | elapsed:  2.6min\n",
      "[Parallel(n_jobs=-1)]: Done  45 tasks      | elapsed:  2.7min\n",
      "[Parallel(n_jobs=-1)]: Done  46 tasks      | elapsed:  2.8min\n",
      "[Parallel(n_jobs=-1)]: Done  47 tasks      | elapsed:  2.8min\n",
      "[Parallel(n_jobs=-1)]: Done  48 tasks      | elapsed:  2.9min\n",
      "[Parallel(n_jobs=-1)]: Done  49 tasks      | elapsed:  3.0min\n",
      "[Parallel(n_jobs=-1)]: Done  50 tasks      | elapsed:  3.0min\n",
      "[Parallel(n_jobs=-1)]: Done  51 tasks      | elapsed:  3.1min\n",
      "[Parallel(n_jobs=-1)]: Done  52 tasks      | elapsed:  3.2min\n",
      "[Parallel(n_jobs=-1)]: Done  53 tasks      | elapsed:  3.3min\n",
      "[Parallel(n_jobs=-1)]: Done  54 tasks      | elapsed:  3.3min\n",
      "[Parallel(n_jobs=-1)]: Done  55 tasks      | elapsed:  3.4min\n",
      "[Parallel(n_jobs=-1)]: Done  56 tasks      | elapsed:  3.6min\n",
      "[Parallel(n_jobs=-1)]: Done  57 tasks      | elapsed:  3.6min\n",
      "[Parallel(n_jobs=-1)]: Done  58 tasks      | elapsed:  3.7min\n",
      "[Parallel(n_jobs=-1)]: Done  59 tasks      | elapsed:  3.8min\n",
      "[Parallel(n_jobs=-1)]: Done  60 tasks      | elapsed:  3.8min\n",
      "[Parallel(n_jobs=-1)]: Done  61 tasks      | elapsed:  3.9min\n",
      "[Parallel(n_jobs=-1)]: Done  62 tasks      | elapsed:  3.9min\n",
      "[Parallel(n_jobs=-1)]: Done  63 tasks      | elapsed:  4.0min\n",
      "[Parallel(n_jobs=-1)]: Done  64 tasks      | elapsed:  4.0min\n",
      "[Parallel(n_jobs=-1)]: Done  65 tasks      | elapsed:  4.1min\n",
      "[Parallel(n_jobs=-1)]: Done  66 tasks      | elapsed:  4.1min\n",
      "[Parallel(n_jobs=-1)]: Done  67 tasks      | elapsed:  4.2min\n",
      "[Parallel(n_jobs=-1)]: Done  68 tasks      | elapsed:  4.2min\n",
      "[Parallel(n_jobs=-1)]: Done  69 tasks      | elapsed:  4.3min\n",
      "[Parallel(n_jobs=-1)]: Done  70 tasks      | elapsed:  4.3min\n",
      "[Parallel(n_jobs=-1)]: Done  71 tasks      | elapsed:  4.4min\n",
      "[Parallel(n_jobs=-1)]: Done  72 tasks      | elapsed:  4.4min\n",
      "[Parallel(n_jobs=-1)]: Done  73 tasks      | elapsed:  4.4min\n",
      "[Parallel(n_jobs=-1)]: Done  74 tasks      | elapsed:  4.4min\n",
      "[Parallel(n_jobs=-1)]: Done  75 tasks      | elapsed:  4.5min\n",
      "[Parallel(n_jobs=-1)]: Done  76 tasks      | elapsed:  4.5min\n",
      "[Parallel(n_jobs=-1)]: Done  77 tasks      | elapsed:  4.6min\n",
      "[Parallel(n_jobs=-1)]: Done  78 tasks      | elapsed:  4.6min\n",
      "[Parallel(n_jobs=-1)]: Done  79 tasks      | elapsed:  5.6min\n",
      "[Parallel(n_jobs=-1)]: Done  80 tasks      | elapsed:  5.8min\n",
      "[Parallel(n_jobs=-1)]: Done  81 tasks      | elapsed:  5.8min\n",
      "[Parallel(n_jobs=-1)]: Done  82 tasks      | elapsed:  5.9min\n",
      "[Parallel(n_jobs=-1)]: Done  83 tasks      | elapsed:  5.9min\n",
      "[Parallel(n_jobs=-1)]: Done  84 tasks      | elapsed:  6.0min\n",
      "[Parallel(n_jobs=-1)]: Done  85 tasks      | elapsed:  6.0min\n",
      "[Parallel(n_jobs=-1)]: Done  86 tasks      | elapsed:  6.1min\n",
      "[Parallel(n_jobs=-1)]: Done  87 tasks      | elapsed:  6.1min\n",
      "[Parallel(n_jobs=-1)]: Done  88 tasks      | elapsed:  6.2min\n",
      "[Parallel(n_jobs=-1)]: Done  89 tasks      | elapsed:  6.2min\n",
      "[Parallel(n_jobs=-1)]: Done  90 tasks      | elapsed:  6.3min\n",
      "[Parallel(n_jobs=-1)]: Done  91 tasks      | elapsed:  6.4min\n",
      "[Parallel(n_jobs=-1)]: Done  92 tasks      | elapsed:  6.4min\n",
      "[Parallel(n_jobs=-1)]: Done  93 tasks      | elapsed:  6.5min\n",
      "[Parallel(n_jobs=-1)]: Done  94 tasks      | elapsed:  6.5min\n",
      "[Parallel(n_jobs=-1)]: Done  95 tasks      | elapsed:  6.6min\n",
      "[Parallel(n_jobs=-1)]: Done  96 tasks      | elapsed:  6.8min\n",
      "[Parallel(n_jobs=-1)]: Done  97 tasks      | elapsed:  6.8min\n",
      "[Parallel(n_jobs=-1)]: Done  98 tasks      | elapsed:  6.9min\n",
      "[Parallel(n_jobs=-1)]: Done  99 tasks      | elapsed:  7.0min\n",
      "[Parallel(n_jobs=-1)]: Done 100 tasks      | elapsed:  7.1min\n",
      "[Parallel(n_jobs=-1)]: Done 101 tasks      | elapsed:  7.1min\n",
      "[Parallel(n_jobs=-1)]: Done 102 tasks      | elapsed:  7.1min\n",
      "[Parallel(n_jobs=-1)]: Done 103 tasks      | elapsed:  7.1min\n",
      "[Parallel(n_jobs=-1)]: Done 104 tasks      | elapsed:  7.2min\n",
      "[Parallel(n_jobs=-1)]: Done 105 tasks      | elapsed:  7.4min\n",
      "[Parallel(n_jobs=-1)]: Done 106 tasks      | elapsed:  7.4min\n",
      "[Parallel(n_jobs=-1)]: Done 107 tasks      | elapsed:  7.4min\n",
      "[Parallel(n_jobs=-1)]: Done 108 tasks      | elapsed:  7.4min\n"
     ]
    }
   ],
   "source": [
    "polish_titles = Parallel(n_jobs=-1, backend='threading', verbose=50)(\n",
    "    delayed(get_translation_of_titles)(keys, titles) for keys, titles in described_relations.items())"
   ]
  },
  {
   "cell_type": "code",
   "execution_count": null,
   "metadata": {},
   "outputs": [],
   "source": []
  }
 ],
 "metadata": {
  "kernelspec": {
   "display_name": "Python 3",
   "language": "python",
   "name": "python3"
  },
  "language_info": {
   "codemirror_mode": {
    "name": "ipython",
    "version": 3
   },
   "file_extension": ".py",
   "mimetype": "text/x-python",
   "name": "python",
   "nbconvert_exporter": "python",
   "pygments_lexer": "ipython3",
   "version": "3.5.1"
  }
 },
 "nbformat": 4,
 "nbformat_minor": 2
}
