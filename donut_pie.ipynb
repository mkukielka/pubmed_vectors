{
 "cells": [
  {
   "cell_type": "code",
   "execution_count": 1,
   "metadata": {},
   "outputs": [],
   "source": [
    "with open('../vectors/icd10cm_codes_2018.txt', 'r+') as f:\n",
    "    codes = [line[0] for line in f]        "
   ]
  },
  {
   "cell_type": "code",
   "execution_count": 12,
   "metadata": {},
   "outputs": [],
   "source": [
    "from collections import Counter, defaultdict"
   ]
  },
  {
   "cell_type": "code",
   "execution_count": 13,
   "metadata": {},
   "outputs": [],
   "source": [
    "counter = Counter(codes)"
   ]
  },
  {
   "cell_type": "code",
   "execution_count": 14,
   "metadata": {},
   "outputs": [],
   "source": [
    "total = sum(counter.values())"
   ]
  },
  {
   "cell_type": "code",
   "execution_count": 15,
   "metadata": {},
   "outputs": [],
   "source": [
    "%matplotlib inline"
   ]
  },
  {
   "cell_type": "code",
   "execution_count": 16,
   "metadata": {},
   "outputs": [],
   "source": [
    "icd10 =\"\"\"A Niektóre choroby zakaźne i pasożytnicze\n",
    "B Niektóre choroby zakaźne i pasożytnicze\n",
    "C Nowotwory\n",
    "D Choroby krwi i narządów krwiotwórczych oraz niektóre choroby przebiegające z udziałem mechaniznów autoimmunologicznych\n",
    "E Zaburzenia wydzielania wewnętrznego, stanu odżywienia i przemiany metabolicznej\n",
    "F Zaburzenia psychiczne i zaburzenia zachowania\n",
    "G Choroby układu nerwowego\n",
    "H Choroby oka i przydatków oka, ucha i wyrostka sutkowatego\n",
    "I Choroby układu krążenia\n",
    "J Choroby układu oddechowego\n",
    "K Choroby układu trawiennego\n",
    "L Choroby skóry i tkanki podskórnej\n",
    "M Choroby układu kostno-mięśniowego i tkanki łącznej\n",
    "N Choroby układu moczowo-płciowego\n",
    "O Ciąża, poród i połóg\n",
    "P Niektóre stany rozpoczynające się w okresie okołoporodowym\n",
    "Q Wady rozwojowe wrodzone, zniekształcenia i aberracje chromosomowe\n",
    "R Objawy, cechy chorobowe oraz nieprawidłowe wyniki badań klinicznych gdzie indziej niesklasyfikowane\n",
    "S Urazy, zatrucia i inne określone skutki działania czynników zewnętrznych\n",
    "T Urazy, zatrucia i inne określone skutki działania czynników zewnętrznych\n",
    "U Kody specjalne\n",
    "V Zewnętrzne przyczyny zachorowania i zgonu\n",
    "W Zewnętrzne przyczyny zachorowania i zgonu\n",
    "X Zewnętrzne przyczyny zachorowania i zgonu\n",
    "Y Zewnętrzne przyczyny zachorowania i zgonu\n",
    "Z Czynniki wpływające na stan zdrowia i kontakt ze służbą zdrowia\"\"\""
   ]
  },
  {
   "cell_type": "code",
   "execution_count": 17,
   "metadata": {},
   "outputs": [],
   "source": [
    "x = [(i.split()[0], i[2:]) for i in icd10.split('\\n')]"
   ]
  },
  {
   "cell_type": "code",
   "execution_count": 18,
   "metadata": {},
   "outputs": [],
   "source": [
    "results = defaultdict(list)\n",
    "for key, title in x:\n",
    "    results[title].append(key)"
   ]
  },
  {
   "cell_type": "code",
   "execution_count": 19,
   "metadata": {},
   "outputs": [],
   "source": [
    "final = defaultdict(list)\n",
    "for query_key, value in counter.items():\n",
    "    for title, keys in results.items():\n",
    "        if query_key in keys:\n",
    "            final[title].append(round((value/total) * 100, 2))"
   ]
  },
  {
   "cell_type": "code",
   "execution_count": 20,
   "metadata": {},
   "outputs": [],
   "source": [
    "for key, value in final.items():\n",
    "    final[key] = sum(value)"
   ]
  },
  {
   "cell_type": "code",
   "execution_count": 21,
   "metadata": {
    "scrolled": true
   },
   "outputs": [
    {
     "data": {
      "text/plain": [
       "[('Urazy, zatrucia i inne określone skutki działania czynników zewnętrznych',\n",
       "  56.51),\n",
       " ('Zewnętrzne przyczyny zachorowania i zgonu', 9.569999999999999),\n",
       " ('Choroby układu kostno-mięśniowego i tkanki łącznej', 9.04),\n",
       " ('Choroby oka i przydatków oka, ucha i wyrostka sutkowatego', 4.49),\n",
       " ('Ciąża, poród i połóg', 3.14),\n",
       " ('Choroby układu krążenia', 1.88),\n",
       " ('Czynniki wpływające na stan zdrowia i kontakt ze służbą zdrowia', 1.73),\n",
       " ('Nowotwory', 1.61),\n",
       " ('Niektóre choroby zakaźne i pasożytnicze', 1.4700000000000002),\n",
       " ('Zaburzenia wydzielania wewnętrznego, stanu odżywienia i przemiany metabolicznej',\n",
       "  1.26),\n",
       " ('Choroby skóry i tkanki podskórnej', 1.18),\n",
       " ('Wady rozwojowe wrodzone, zniekształcenia i aberracje chromosomowe', 1.13),\n",
       " ('Choroby układu trawiennego', 1.1),\n",
       " ('Zaburzenia psychiczne i zaburzenia zachowania', 1.04),\n",
       " ('Choroby krwi i narządów krwiotwórczych oraz niektóre choroby przebiegające z udziałem mechaniznów autoimmunologicznych',\n",
       "  1.02),\n",
       " ('Objawy, cechy chorobowe oraz nieprawidłowe wyniki badań klinicznych gdzie indziej niesklasyfikowane',\n",
       "  0.99),\n",
       " ('Choroby układu moczowo-płciowego', 0.91),\n",
       " ('Choroby układu nerwowego', 0.86),\n",
       " ('Niektóre stany rozpoczynające się w okresie okołoporodowym', 0.59),\n",
       " ('Choroby układu oddechowego', 0.48)]"
      ]
     },
     "execution_count": 21,
     "metadata": {},
     "output_type": "execute_result"
    }
   ],
   "source": [
    "sorted(final.items(), key=lambda x: x[1], reverse=True)"
   ]
  },
  {
   "cell_type": "code",
   "execution_count": 22,
   "metadata": {},
   "outputs": [],
   "source": [
    "values = list(map(lambda x: x[1], sorted(final.items(), key=lambda x: x[1], reverse=True)[:8]))"
   ]
  },
  {
   "cell_type": "code",
   "execution_count": 23,
   "metadata": {},
   "outputs": [],
   "source": [
    "values.append(round(100 - sum(values), 2))"
   ]
  },
  {
   "cell_type": "code",
   "execution_count": 24,
   "metadata": {
    "scrolled": true
   },
   "outputs": [
    {
     "data": {
      "text/plain": [
       "[56.51, 9.569999999999999, 9.04, 4.49, 3.14, 1.88, 1.73, 1.61, 12.03]"
      ]
     },
     "execution_count": 24,
     "metadata": {},
     "output_type": "execute_result"
    }
   ],
   "source": [
    "values"
   ]
  },
  {
   "cell_type": "code",
   "execution_count": 25,
   "metadata": {},
   "outputs": [],
   "source": [
    "titles = list(map(lambda x: x[0], sorted(final.items(), key=lambda x: x[1], reverse=True)[:8]))"
   ]
  },
  {
   "cell_type": "code",
   "execution_count": 26,
   "metadata": {},
   "outputs": [],
   "source": [
    "titles.append('Inne')"
   ]
  },
  {
   "cell_type": "code",
   "execution_count": 31,
   "metadata": {},
   "outputs": [],
   "source": [
    "import numpy as np\n",
    "import matplotlib.pyplot as plt"
   ]
  },
  {
   "cell_type": "code",
   "execution_count": 46,
   "metadata": {
    "scrolled": true
   },
   "outputs": [
    {
     "data": {
      "image/png": "[encoded data removed]",
      "text/plain": [
       "<matplotlib.figure.Figure at 0x119198a58>"
      ]
     },
     "metadata": {},
     "output_type": "display_data"
    }
   ],
   "source": [
    "fig, ax = plt.subplots(figsize=(5, 5), subplot_kw=dict(aspect=\"equal\"))\n",
    "wedges, texts = ax.pie(values, wedgeprops=dict(width=0.6), startangle=-80)\n",
    "\n",
    "bbox_props = dict(boxstyle=\"square, pad=0.5\", fc=\"w\", ec=\"k\", lw=0.72)\n",
    "kw = dict(xycoords='data', textcoords='data', arrowprops=dict(arrowstyle=\"-\"),\n",
    "          bbox=bbox_props, zorder=0, va=\"center\", size=10)\n",
    "\n",
    "for i, p in enumerate(wedges):\n",
    "    if values[i] > 1.8:\n",
    "        ang = (p.theta2 - p.theta1)/2. + p.theta1\n",
    "        y = np.sin(np.deg2rad(ang))\n",
    "        x = np.cos(np.deg2rad(ang))\n",
    "        horizontalalignment = {-1: \"right\", 1: \"left\"}[int(np.sign(x))]\n",
    "        connectionstyle = \"angle,angleA=0,angleB={}\".format(ang)\n",
    "        kw[\"arrowprops\"].update({\"connectionstyle\": connectionstyle})\n",
    "        ax.annotate('{}: {}%'.format(titles[i], round(values[i], 2)), xy=(x, y), xytext=(1.3*np.sign(x), 1.4*y),\n",
    "                     horizontalalignment=horizontalalignment, **kw)\n",
    "\n",
    "plt.savefig('donut.png', bbox_inches = 'tight')"
   ]
  },
  {
   "cell_type": "code",
   "execution_count": null,
   "metadata": {},
   "outputs": [],
   "source": [
    "plt.savefig('donut.png', bbox_inches = 'tight')"
   ]
  },
  {
   "cell_type": "code",
   "execution_count": null,
   "metadata": {},
   "outputs": [],
   "source": []
  }
 ],
 "metadata": {
  "kernelspec": {
   "display_name": "Python 3",
   "language": "python",
   "name": "python3"
  },
  "language_info": {
   "codemirror_mode": {
    "name": "ipython",
    "version": 3
   },
   "file_extension": ".py",
   "mimetype": "text/x-python",
   "name": "python",
   "nbconvert_exporter": "python",
   "pygments_lexer": "ipython3",
   "version": "3.5.1"
  }
 },
 "nbformat": 4,
 "nbformat_minor": 2
}
