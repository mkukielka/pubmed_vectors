{
 "cells": [
  {
   "cell_type": "code",
   "execution_count": 1,
   "metadata": {},
   "outputs": [],
   "source": [
    "import matplotlib.pyplot as plt\n",
    "%matplotlib inline\n",
    "import numpy as np\n",
    "from collections import defaultdict\n",
    "from gensim.models import doc2vec \n",
    "from tqdm import tqdm\n",
    "import networkx as nx\n",
    "import pandas as pd\n",
    "from pylab import rcParams"
   ]
  },
  {
   "cell_type": "code",
   "execution_count": 2,
   "metadata": {},
   "outputs": [],
   "source": [
    "def get_icd10_codes():\n",
    "    icd10 = defaultdict()\n",
    "    with open('../icd10cm_codes_2018.txt', 'r+') as f:\n",
    "        for line in f.readlines():\n",
    "            line = line.split()\n",
    "            icd10[line[0].lower()] = ' '.join(line[1:]).lower()\n",
    "        return icd10\n",
    "\n",
    "    \n",
    "def create_relations_plot(path_to_model, path_to_graph, glove_model, output_file, min_nodes=1):\n",
    "    rcParams['figure.figsize'] = 20, 15\n",
    "    icd10_codes = get_icd10_codes()\n",
    "    if glove_model:\n",
    "        # load glove model\n",
    "        vectors = pd.read_csv(path_to_model, header=None, names=['word', 'x', 'y'], sep=' ')\n",
    "        plot_data = vectors[vectors.word.isin(icd10_codes)]\n",
    "        graph = nx.read_edgelist(path_to_graph)\n",
    "    else:\n",
    "        # load doc2vec model\n",
    "        model = doc2vec.Doc2Vec.load(path_to_model)\n",
    "        graph = nx.read_edgelist(path_to_graph)\n",
    "        vectors = []\n",
    "        for code in graph.nodes:\n",
    "            x, y = model.wv.get_vector(code)\n",
    "            vectors.append([code, x, y])\n",
    "        plot_data = pd.DataFrame(vectors, columns=['word', 'x', 'y'])\n",
    "\n",
    "    components = list(nx.connected_component_subgraphs(graph))\n",
    "    # pick only relations, which contain at least 3 nodes\n",
    "    big_components = list(filter(lambda x: len(x.nodes) > min_nodes, components))\n",
    "    for component in big_components:\n",
    "        choosen_vectors = plot_data[plot_data.word.isin(component.nodes)]\n",
    "        for _, row in choosen_vectors.iterrows():\n",
    "            plt.scatter(choosen_vectors.x, choosen_vectors.y, cmap=plt.get_cmap('Spectral'))\n",
    "            x, y, label = row.x, row.y, row.word\n",
    "            plt.annotate(\n",
    "                label,\n",
    "                xy=(x,y),\n",
    "                xytext=(-14, 14),\n",
    "                textcoords='offset points',\n",
    "                bbox=dict(boxstyle='round,pad=0.5', fc='yellow', alpha=0.5),\n",
    "                arrowprops=dict(arrowstyle = '->', connectionstyle='arc3,rad=0')\n",
    "            )\n",
    "    plt.savefig(output_file, format='svg', bbox_inches='tight', dpi=1200)\n",
    "    \n",
    "\n",
    "def create_histogram_of_relations_size(path_to_graph, output_file):\n",
    "    rcParams['figure.figsize'] = 12, 8\n",
    "    rcParams['axes.labelsize'] = 'xx-large'\n",
    "    graph = nx.read_edgelist(path_to_graph)\n",
    "    _, _, _ = plt.hist([len(i) for i in list(nx.connected_component_subgraphs(graph))], bins=6, range=(0, 6))\n",
    "    plt.xlabel('Liczba kodów składających się na relację')\n",
    "    plt.ylabel('Liczba relacji')\n",
    "    plt.savefig(output_file, format='svg', bbox_inches='tight', dpi=1200)\n"
   ]
  },
  {
   "cell_type": "markdown",
   "metadata": {},
   "source": [
    "Histogram"
   ]
  },
  {
   "cell_type": "code",
   "execution_count": null,
   "metadata": {},
   "outputs": [],
   "source": [
    "plt.style.use('seaborn-deep')\n",
    "rcParams['axes.labelsize'] = 'x-large'\n",
    "rcParams['xtick.labelsize'] = 'large'\n",
    "rcParams['ytick.labelsize'] = 'large'\n",
    "rcParams['figure.figsize'] = 12, 8\n",
    "glove50_2 = nx.read_edgelist('glove_analysis/dimension_2/50/graph_glove_100')\n",
    "glove50_10 = nx.read_edgelist('glove_analysis/dimension_10/50/graph_glove_100')\n",
    "glove150_2 = nx.read_edgelist('glove_analysis/dimension_2/150/graph_glove_100')\n",
    "glove150_10 = nx.read_edgelist('glove_analysis/dimension_10/150/graph_glove_100')\n",
    "graph_doc2vec_50_2 = nx.read_edgelist('doc2vec_analysis/cbow/50/graph_100')\n",
    "graph_doc2vec_50_10 = nx.read_edgelist('doc2vec_analysis/dimension10/50/graph_100')\n",
    "graph_doc2vec_150_2 = nx.read_edgelist('doc2vec_analysis/cbow/150/graph_100')\n",
    "graph_doc2vec_150_10 = nx.read_edgelist('doc2vec_analysis/dimension10/150/graph_100')\n",
    "_, _, _ = plt.hist([[len(i) for i in list(nx.connected_component_subgraphs(glove50_2))],\n",
    "                    [len(i) for i in list(nx.connected_component_subgraphs(glove50_10))],\n",
    "                    [len(i) for i in list(nx.connected_component_subgraphs(glove150_2))],\n",
    "                    [len(i) for i in list(nx.connected_component_subgraphs(glove150_10))],\n",
    "                    [len(i) for i in list(nx.connected_component_subgraphs(graph_doc2vec_50_2))],\n",
    "                    [len(i) for i in list(nx.connected_component_subgraphs(graph_doc2vec_50_10))],\n",
    "                    [len(i) for i in list(nx.connected_component_subgraphs(graph_doc2vec_150_2))],\n",
    "                    [len(i) for i in list(nx.connected_component_subgraphs(graph_doc2vec_150_10))]],\n",
    "                    range=(1, 10),\n",
    "                   label=['GloVe: 50x2', 'GloVe: 50x10', \n",
    "                          'GloVe: 150 x 2', 'GloVe: 150x10',\n",
    "                          'Doc2vec: 50 x 2', 'Doc2vec: 50x10', \n",
    "                          'Doc2vec: 150 x 2', 'Doc2vec: 150x10'], align='left')\n",
    "_ = plt.legend(loc='upper right')\n",
    "plt.xlabel('Liczba kodów składających się na relację')\n",
    "plt.ylabel('Liczba relacji')\n",
    "plt.savefig('hist_all.svg', format='svg', bbox_inches='tight', dpi=1200)"
   ]
  }
 ],
 "metadata": {
  "kernelspec": {
   "display_name": "Python 3",
   "language": "python",
   "name": "python3"
  },
  "language_info": {
   "codemirror_mode": {
    "name": "ipython",
    "version": 3
   },
   "file_extension": ".py",
   "mimetype": "text/x-python",
   "name": "python",
   "nbconvert_exporter": "python",
   "pygments_lexer": "ipython3",
   "version": "3.5.1"
  }
 },
 "nbformat": 4,
 "nbformat_minor": 2
}
