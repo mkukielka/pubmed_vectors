{
 "cells": [
  {
   "cell_type": "markdown",
   "metadata": {},
   "source": [
    "Creating vocabulary"
   ]
  },
  {
   "cell_type": "code",
   "execution_count": null,
   "metadata": {},
   "outputs": [],
   "source": [
    "./vocab_count -verbose 2 -max-vocab 2000000 -min-count 10 < input_file > vocabulary.txt"
   ]
  },
  {
   "cell_type": "markdown",
   "metadata": {},
   "source": [
    "Computing word-word cooccurence statistics"
   ]
  },
  {
   "cell_type": "code",
   "execution_count": null,
   "metadata": {},
   "outputs": [],
   "source": [
    "./cooccur -verbose 2 -symmetric 1 -window-size 150 -vocab-file ../../filtered_vocab_10.txt -memory 56.0 -overflow-file tempoverflow < ../../corpus.txt > cooccurrences150.bin\n",
    "./shuffle -verbose 2 -memory 28.0 < cooccurrences150.bin > cooccurrences150.shuf.bin"
   ]
  },
  {
   "cell_type": "code",
   "execution_count": null,
   "metadata": {},
   "outputs": [],
   "source": [
    "./cooccur %-verbose 2 -symmetric 1 -window-size 50 -vocab-file ../../filtered_vocab_10.txt -memory 56.0 -overflow-file tempoverflow < ../../corpus.txt > cooccurrences50.bin\n",
    "./shuffle -verbose 2 -memory 28.0 < cooccurrences50.bin > cooccurrence50.shuf.bin"
   ]
  },
  {
   "cell_type": "markdown",
   "metadata": {},
   "source": [
    "Building word vectors"
   ]
  },
  {
   "cell_type": "code",
   "execution_count": null,
   "metadata": {},
   "outputs": [],
   "source": [
    "./glove -input-file cooccurrences150.shuf.bin -vocab-file ../../filtered_vocab_10.txt -save-file glove_vectors150 -gradsq-file gradsq -verbose 2 -vector-size 2 -threads 24 -alpha 0.75 -x-max 100.0 -eta 0.05 -binary 2 -model 2"
   ]
  },
  {
   "cell_type": "code",
   "execution_count": null,
   "metadata": {},
   "outputs": [],
   "source": [
    "./glove -input-file cooccurrences50.shuf.bin -vocab-file ../../filtered_vocab_10.txt -save-file glove_vectors50 -gradsq-file gradsq58 -verbose 2 -vector-size 2 -threads 24 -alpha 0.75 -x-max 100.0 -eta 0.05 -binary 2 -model 2"
   ]
  }
 ],
 "metadata": {
  "kernelspec": {
   "display_name": "Python 3",
   "language": "python",
   "name": "python3"
  },
  "language_info": {
   "codemirror_mode": {
    "name": "ipython",
    "version": 3
   },
   "file_extension": ".py",
   "mimetype": "text/x-python",
   "name": "python",
   "nbconvert_exporter": "python",
   "pygments_lexer": "ipython3",
   "version": "3.5.1"
  }
 },
 "nbformat": 4,
 "nbformat_minor": 2
}
