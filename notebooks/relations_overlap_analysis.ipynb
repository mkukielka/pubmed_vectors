{
 "cells": [
  {
   "cell_type": "code",
   "execution_count": 5,
   "metadata": {},
   "outputs": [],
   "source": [
    "import numpy as np\n",
    "import random\n",
    "from collections import defaultdict, Counter\n",
    "from tqdm import tqdm\n",
    "from joblib import Parallel, delayed\n",
    "import networkx as nx\n",
    "import pandas as pd"
   ]
  },
  {
   "cell_type": "code",
   "execution_count": 2,
   "metadata": {},
   "outputs": [],
   "source": [
    "def get_icd10_codes():\n",
    "    icd10 = defaultdict()\n",
    "    with open('../results/icd10cm_codes_2018.txt', 'r+') as f:\n",
    "        for line in f.readlines():\n",
    "            line = line.split()\n",
    "            icd10[line[0].lower()] = ' '.join(line[1:]).lower()\n",
    "        return icd10\n",
    "\n",
    "icd10_codes = get_icd10_codes()\n",
    "    \n",
    "def retrieve_titles_for_subgraph(graph, icd10, min_nodes=2):\n",
    "    subgraphs = list(nx.connected_component_subgraphs(graph))\n",
    "    results = defaultdict(list)\n",
    "    for subgraph in subgraphs:\n",
    "        nodes = subgraph.nodes()\n",
    "        if len(nodes) >= min_nodes:\n",
    "            results[', '.join(nodes.keys())] = [icd10[node] for node in nodes]\n",
    "    return results"
   ]
  },
  {
   "cell_type": "code",
   "execution_count": 54,
   "metadata": {},
   "outputs": [],
   "source": [
    "def get_overlap(graph1, graph2):\n",
    "    results = defaultdict(int)\n",
    "    for i in graph1:\n",
    "        codes = set(i.split(', '))\n",
    "        for key in graph2:\n",
    "            overlapping_codes = tuple(codes.intersection(key.split(', ')))\n",
    "            if len(overlapping_codes) >= 2:\n",
    "                results[tuple(sorted(overlapping_codes))] += 1\n",
    "    return results"
   ]
  },
  {
   "cell_type": "markdown",
   "metadata": {},
   "source": [
    "GloVe"
   ]
  },
  {
   "cell_type": "code",
   "execution_count": 6,
   "metadata": {},
   "outputs": [],
   "source": [
    "glove50_2 = nx.read_edgelist('glove_analysis/dimension_2/50/graph_glove_100')\n",
    "glove50_10 = nx.read_edgelist('glove_analysis/dimension_10/50/graph_glove_100')\n",
    "glove150_2 = nx.read_edgelist('glove_analysis/dimension_2/150/graph_glove_100')\n",
    "glove150_10 = nx.read_edgelist('glove_analysis/dimension_10/150/graph_glove_100')"
   ]
  },
  {
   "cell_type": "code",
   "execution_count": 7,
   "metadata": {},
   "outputs": [],
   "source": [
    "described_glove50_2 = retrieve_titles_for_subgraph(glove50_2, icd10_codes)\n",
    "described_glove50_10 = retrieve_titles_for_subgraph(glove50_10, icd10_codes)\n",
    "described_glove150_2 = retrieve_titles_for_subgraph(glove150_2, icd10_codes)\n",
    "described_glove150_10 = retrieve_titles_for_subgraph(glove150_10, icd10_codes)"
   ]
  },
  {
   "cell_type": "code",
   "execution_count": null,
   "metadata": {},
   "outputs": [],
   "source": [
    "# amount of relations\n",
    "for i in graphs:\n",
    "    print('{} / {} = {}'.format(\n",
    "        sum([1 for codes in i if len(set(k[0] for k in codes.split(', '))) == 1]), len(i), sum([1 for codes in i if len(set(k[0] for k in codes.split(', '))) == 1]) / len(i)))"
   ]
  },
  {
   "cell_type": "code",
   "execution_count": null,
   "metadata": {
    "scrolled": true
   },
   "outputs": [],
   "source": [
    "get_overlap(described_glove50, described_doc2vec50)"
   ]
  },
  {
   "cell_type": "markdown",
   "metadata": {},
   "source": [
    "Doc2vec"
   ]
  },
  {
   "cell_type": "code",
   "execution_count": 8,
   "metadata": {},
   "outputs": [],
   "source": [
    "doc2vec50_2 = nx.read_edgelist('doc2vec_analysis/cbow/50/graph_100')\n",
    "doc2vec150_2 = nx.read_edgelist('doc2vec_analysis/cbow/150/graph_100')\n",
    "doc2vec50_10 = nx.read_edgelist('doc2vec_analysis/dimension10/50/graph_100')\n",
    "doc2vec150_10 = nx.read_edgelist('doc2vec_analysis/dimension10/150/graph_100')"
   ]
  },
  {
   "cell_type": "code",
   "execution_count": 9,
   "metadata": {},
   "outputs": [],
   "source": [
    "described_doc2vec50_2 = retrieve_titles_for_subgraph(doc2vec50_2, get_icd10_codes())\n",
    "described_doc2vec150_2 = retrieve_titles_for_subgraph(doc2vec150_2, get_icd10_codes())\n",
    "described_doc2vec50_10 = retrieve_titles_for_subgraph(doc2vec50_10, get_icd10_codes())\n",
    "described_doc2vec150_10 = retrieve_titles_for_subgraph(doc2vec150_10, get_icd10_codes())"
   ]
  },
  {
   "cell_type": "code",
   "execution_count": 10,
   "metadata": {},
   "outputs": [],
   "source": [
    "graphs = [described_glove50_2, described_glove50_10, \n",
    "          described_glove150_2, described_glove150_10,\n",
    "          described_doc2vec50_2, described_doc2vec50_10,\n",
    "          described_doc2vec150_2, described_doc2vec150_10]\n",
    "\n",
    "names = ['GloVe: 50x2', 'GloVe: 50x10', 'GloVe: 150x2', 'GloVe: 150x10',\n",
    "         'Doc2vec: 50x2', 'Doc2vec: 50x10', 'Doc2vec: 150x2', 'Doc2vec: 150x10']"
   ]
  },
  {
   "cell_type": "code",
   "execution_count": 34,
   "metadata": {},
   "outputs": [],
   "source": [
    "def statistics(graph, name):\n",
    "    subgraphs_length = [len(i.split(', ')) for i in graph]\n",
    "    length, average_length, median_length = len(graph), np.average(subgraphs_length), np.median(subgraphs_length)\n",
    "    hits = sum([max(Counter(code[0] for code in relation.split(', ')).values()) > 2 for relation in graph])\n",
    "    return [name, length, average_length, median_length, hits]"
   ]
  },
  {
   "cell_type": "code",
   "execution_count": 35,
   "metadata": {},
   "outputs": [],
   "source": [
    "results = pd.DataFrame([statistics(graph, name) for graph, name in zip(graphs, names)], \n",
    "                       columns=['model', 'no relations', 'average length', 'median length', 'same category'])"
   ]
  },
  {
   "cell_type": "code",
   "execution_count": 36,
   "metadata": {},
   "outputs": [
    {
     "data": {
      "text/html": [
       "<div>\n",
       "<style scoped>\n",
       "    .dataframe tbody tr th:only-of-type {\n",
       "        vertical-align: middle;\n",
       "    }\n",
       "\n",
       "    .dataframe tbody tr th {\n",
       "        vertical-align: top;\n",
       "    }\n",
       "\n",
       "    .dataframe thead th {\n",
       "        text-align: right;\n",
       "    }\n",
       "</style>\n",
       "<table border=\"1\" class=\"dataframe\">\n",
       "  <thead>\n",
       "    <tr style=\"text-align: right;\">\n",
       "      <th></th>\n",
       "      <th>model</th>\n",
       "      <th>no relations</th>\n",
       "      <th>average length</th>\n",
       "      <th>median length</th>\n",
       "      <th>same category</th>\n",
       "    </tr>\n",
       "  </thead>\n",
       "  <tbody>\n",
       "    <tr>\n",
       "      <th>0</th>\n",
       "      <td>GloVe: 50x2</td>\n",
       "      <td>151</td>\n",
       "      <td>2.132450</td>\n",
       "      <td>2.0</td>\n",
       "      <td>0</td>\n",
       "    </tr>\n",
       "    <tr>\n",
       "      <th>1</th>\n",
       "      <td>GloVe: 50x10</td>\n",
       "      <td>200</td>\n",
       "      <td>3.735000</td>\n",
       "      <td>2.0</td>\n",
       "      <td>22</td>\n",
       "    </tr>\n",
       "    <tr>\n",
       "      <th>2</th>\n",
       "      <td>GloVe: 150x2</td>\n",
       "      <td>150</td>\n",
       "      <td>2.160000</td>\n",
       "      <td>2.0</td>\n",
       "      <td>1</td>\n",
       "    </tr>\n",
       "    <tr>\n",
       "      <th>3</th>\n",
       "      <td>GloVe: 150x10</td>\n",
       "      <td>185</td>\n",
       "      <td>3.697297</td>\n",
       "      <td>2.0</td>\n",
       "      <td>23</td>\n",
       "    </tr>\n",
       "    <tr>\n",
       "      <th>4</th>\n",
       "      <td>Doc2vec: 50x2</td>\n",
       "      <td>143</td>\n",
       "      <td>2.111888</td>\n",
       "      <td>2.0</td>\n",
       "      <td>0</td>\n",
       "    </tr>\n",
       "    <tr>\n",
       "      <th>5</th>\n",
       "      <td>Doc2vec: 50x10</td>\n",
       "      <td>179</td>\n",
       "      <td>3.826816</td>\n",
       "      <td>2.0</td>\n",
       "      <td>9</td>\n",
       "    </tr>\n",
       "    <tr>\n",
       "      <th>6</th>\n",
       "      <td>Doc2vec: 150x2</td>\n",
       "      <td>143</td>\n",
       "      <td>2.111888</td>\n",
       "      <td>2.0</td>\n",
       "      <td>0</td>\n",
       "    </tr>\n",
       "    <tr>\n",
       "      <th>7</th>\n",
       "      <td>Doc2vec: 150x10</td>\n",
       "      <td>185</td>\n",
       "      <td>3.670270</td>\n",
       "      <td>2.0</td>\n",
       "      <td>7</td>\n",
       "    </tr>\n",
       "  </tbody>\n",
       "</table>\n",
       "</div>"
      ],
      "text/plain": [
       "             model  no relations  average length  median length  same category\n",
       "0      GloVe: 50x2           151        2.132450            2.0              0\n",
       "1     GloVe: 50x10           200        3.735000            2.0             22\n",
       "2     GloVe: 150x2           150        2.160000            2.0              1\n",
       "3    GloVe: 150x10           185        3.697297            2.0             23\n",
       "4    Doc2vec: 50x2           143        2.111888            2.0              0\n",
       "5   Doc2vec: 50x10           179        3.826816            2.0              9\n",
       "6   Doc2vec: 150x2           143        2.111888            2.0              0\n",
       "7  Doc2vec: 150x10           185        3.670270            2.0              7"
      ]
     },
     "execution_count": 36,
     "metadata": {},
     "output_type": "execute_result"
    }
   ],
   "source": [
    "results"
   ]
  },
  {
   "cell_type": "code",
   "execution_count": 55,
   "metadata": {},
   "outputs": [],
   "source": [
    "overlap = np.zeros([8, 8])\n",
    "for index, graph in enumerate(graphs):\n",
    "    overlap[index] = [sum(get_overlap(graph, graph1).values()) for graph1 in graphs]    "
   ]
  },
  {
   "cell_type": "code",
   "execution_count": 56,
   "metadata": {
    "scrolled": true
   },
   "outputs": [
    {
     "data": {
      "text/html": [
       "<div>\n",
       "<style scoped>\n",
       "    .dataframe tbody tr th:only-of-type {\n",
       "        vertical-align: middle;\n",
       "    }\n",
       "\n",
       "    .dataframe tbody tr th {\n",
       "        vertical-align: top;\n",
       "    }\n",
       "\n",
       "    .dataframe thead th {\n",
       "        text-align: right;\n",
       "    }\n",
       "</style>\n",
       "<table border=\"1\" class=\"dataframe\">\n",
       "  <thead>\n",
       "    <tr style=\"text-align: right;\">\n",
       "      <th></th>\n",
       "      <th>GloVe: 50x2</th>\n",
       "      <th>GloVe: 50x10</th>\n",
       "      <th>GloVe: 150x2</th>\n",
       "      <th>GloVe: 150x10</th>\n",
       "      <th>Doc2vec: 50x2</th>\n",
       "      <th>Doc2vec: 50x10</th>\n",
       "      <th>Doc2vec: 150x2</th>\n",
       "      <th>Doc2vec: 150x10</th>\n",
       "    </tr>\n",
       "  </thead>\n",
       "  <tbody>\n",
       "    <tr>\n",
       "      <th>GloVe: 50x2</th>\n",
       "      <td>151.0</td>\n",
       "      <td>7.0</td>\n",
       "      <td>1.0</td>\n",
       "      <td>8.0</td>\n",
       "      <td>0.0</td>\n",
       "      <td>2.0</td>\n",
       "      <td>0.0</td>\n",
       "      <td>6.0</td>\n",
       "    </tr>\n",
       "    <tr>\n",
       "      <th>GloVe: 50x10</th>\n",
       "      <td>7.0</td>\n",
       "      <td>200.0</td>\n",
       "      <td>7.0</td>\n",
       "      <td>97.0</td>\n",
       "      <td>2.0</td>\n",
       "      <td>16.0</td>\n",
       "      <td>2.0</td>\n",
       "      <td>20.0</td>\n",
       "    </tr>\n",
       "    <tr>\n",
       "      <th>GloVe: 150x2</th>\n",
       "      <td>1.0</td>\n",
       "      <td>7.0</td>\n",
       "      <td>150.0</td>\n",
       "      <td>7.0</td>\n",
       "      <td>0.0</td>\n",
       "      <td>3.0</td>\n",
       "      <td>0.0</td>\n",
       "      <td>2.0</td>\n",
       "    </tr>\n",
       "    <tr>\n",
       "      <th>GloVe: 150x10</th>\n",
       "      <td>8.0</td>\n",
       "      <td>97.0</td>\n",
       "      <td>7.0</td>\n",
       "      <td>185.0</td>\n",
       "      <td>1.0</td>\n",
       "      <td>17.0</td>\n",
       "      <td>1.0</td>\n",
       "      <td>21.0</td>\n",
       "    </tr>\n",
       "    <tr>\n",
       "      <th>Doc2vec: 50x2</th>\n",
       "      <td>0.0</td>\n",
       "      <td>2.0</td>\n",
       "      <td>0.0</td>\n",
       "      <td>1.0</td>\n",
       "      <td>143.0</td>\n",
       "      <td>0.0</td>\n",
       "      <td>143.0</td>\n",
       "      <td>1.0</td>\n",
       "    </tr>\n",
       "    <tr>\n",
       "      <th>Doc2vec: 50x10</th>\n",
       "      <td>2.0</td>\n",
       "      <td>16.0</td>\n",
       "      <td>3.0</td>\n",
       "      <td>17.0</td>\n",
       "      <td>0.0</td>\n",
       "      <td>179.0</td>\n",
       "      <td>0.0</td>\n",
       "      <td>57.0</td>\n",
       "    </tr>\n",
       "    <tr>\n",
       "      <th>Doc2vec: 150x2</th>\n",
       "      <td>0.0</td>\n",
       "      <td>2.0</td>\n",
       "      <td>0.0</td>\n",
       "      <td>1.0</td>\n",
       "      <td>143.0</td>\n",
       "      <td>0.0</td>\n",
       "      <td>143.0</td>\n",
       "      <td>1.0</td>\n",
       "    </tr>\n",
       "    <tr>\n",
       "      <th>Doc2vec: 150x10</th>\n",
       "      <td>6.0</td>\n",
       "      <td>20.0</td>\n",
       "      <td>2.0</td>\n",
       "      <td>21.0</td>\n",
       "      <td>1.0</td>\n",
       "      <td>57.0</td>\n",
       "      <td>1.0</td>\n",
       "      <td>185.0</td>\n",
       "    </tr>\n",
       "  </tbody>\n",
       "</table>\n",
       "</div>"
      ],
      "text/plain": [
       "                 GloVe: 50x2  GloVe: 50x10  GloVe: 150x2  GloVe: 150x10  \\\n",
       "GloVe: 50x2            151.0           7.0           1.0            8.0   \n",
       "GloVe: 50x10             7.0         200.0           7.0           97.0   \n",
       "GloVe: 150x2             1.0           7.0         150.0            7.0   \n",
       "GloVe: 150x10            8.0          97.0           7.0          185.0   \n",
       "Doc2vec: 50x2            0.0           2.0           0.0            1.0   \n",
       "Doc2vec: 50x10           2.0          16.0           3.0           17.0   \n",
       "Doc2vec: 150x2           0.0           2.0           0.0            1.0   \n",
       "Doc2vec: 150x10          6.0          20.0           2.0           21.0   \n",
       "\n",
       "                 Doc2vec: 50x2  Doc2vec: 50x10  Doc2vec: 150x2  \\\n",
       "GloVe: 50x2                0.0             2.0             0.0   \n",
       "GloVe: 50x10               2.0            16.0             2.0   \n",
       "GloVe: 150x2               0.0             3.0             0.0   \n",
       "GloVe: 150x10              1.0            17.0             1.0   \n",
       "Doc2vec: 50x2            143.0             0.0           143.0   \n",
       "Doc2vec: 50x10             0.0           179.0             0.0   \n",
       "Doc2vec: 150x2           143.0             0.0           143.0   \n",
       "Doc2vec: 150x10            1.0            57.0             1.0   \n",
       "\n",
       "                 Doc2vec: 150x10  \n",
       "GloVe: 50x2                  6.0  \n",
       "GloVe: 50x10                20.0  \n",
       "GloVe: 150x2                 2.0  \n",
       "GloVe: 150x10               21.0  \n",
       "Doc2vec: 50x2                1.0  \n",
       "Doc2vec: 50x10              57.0  \n",
       "Doc2vec: 150x2               1.0  \n",
       "Doc2vec: 150x10            185.0  "
      ]
     },
     "execution_count": 56,
     "metadata": {},
     "output_type": "execute_result"
    }
   ],
   "source": [
    "pd.DataFrame(overlap, columns=names, index=names)"
   ]
  },
  {
   "cell_type": "code",
   "execution_count": null,
   "metadata": {},
   "outputs": [],
   "source": []
  },
  {
   "cell_type": "markdown",
   "metadata": {},
   "source": [
    "Prepare file with filtered, described relations for all models"
   ]
  },
  {
   "cell_type": "code",
   "execution_count": 81,
   "metadata": {},
   "outputs": [],
   "source": [
    "found_relations = defaultdict(list)\n",
    "for graph in graphs:\n",
    "    for key, titles in graph.items(): \n",
    "        sorted_item = sorted(zip(key.split(', '), titles), key=lambda x: x[0])\n",
    "        codes = tuple(map(lambda x: x[0], sorted_item))\n",
    "#         if 2 < len(codes) < 15 and len(set(code[0] for code in codes)) > 1:\n",
    "        found_relations[codes] = tuple(map(lambda x: x[1], sorted_item))"
   ]
  },
  {
   "cell_type": "code",
   "execution_count": 82,
   "metadata": {},
   "outputs": [
    {
     "data": {
      "text/plain": [
       "1166"
      ]
     },
     "execution_count": 82,
     "metadata": {},
     "output_type": "execute_result"
    }
   ],
   "source": [
    "len(found_relations)"
   ]
  },
  {
   "cell_type": "code",
   "execution_count": 77,
   "metadata": {},
   "outputs": [],
   "source": [
    "with open('described_relations', 'w+') as output_file:  \n",
    "    for keys, titles in found_relations.items():\n",
    "        output_file.write('{}:\\n'.format(', '.join(keys)))\n",
    "        output_file.write('{}\\n'.format('\\n'.join(titles)))\n",
    "        output_file.write('\\n')"
   ]
  },
  {
   "cell_type": "code",
   "execution_count": 78,
   "metadata": {},
   "outputs": [
    {
     "data": {
      "text/plain": [
       "1336"
      ]
     },
     "execution_count": 78,
     "metadata": {},
     "output_type": "execute_result"
    }
   ],
   "source": [
    "sum(len(i) for i in graphs)"
   ]
  },
  {
   "cell_type": "code",
   "execution_count": null,
   "metadata": {},
   "outputs": [],
   "source": []
  }
 ],
 "metadata": {
  "kernelspec": {
   "display_name": "Python 3",
   "language": "python",
   "name": "python3"
  }
 },
 "nbformat": 4,
 "nbformat_minor": 2
}
