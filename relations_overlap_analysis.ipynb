{
 "cells": [
  {
   "cell_type": "code",
   "execution_count": 1,
   "metadata": {},
   "outputs": [],
   "source": [
    "from pprint import pprint\n",
    "import numpy as np\n",
    "import random\n",
    "from collections import defaultdict\n",
    "from tqdm import tqdm\n",
    "from joblib import Parallel, delayed\n",
    "import networkx as nx"
   ]
  },
  {
   "cell_type": "code",
   "execution_count": 2,
   "metadata": {},
   "outputs": [],
   "source": [
    "def get_icd10_codes():\n",
    "    icd10 = defaultdict()\n",
    "    with open('../results/icd10cm_codes_2018.txt', 'r+') as f:\n",
    "        for line in f.readlines():\n",
    "            line = line.split()\n",
    "            icd10[line[0].lower()] = ' '.join(line[1:]).lower()\n",
    "        return icd10\n",
    "\n",
    "def retrieve_titles_for_subgraph(graph, icd10, min_nodes=3):\n",
    "    subgraphs = list(nx.connected_component_subgraphs(graph))\n",
    "    results = defaultdict(list)\n",
    "    for subgraph in subgraphs:\n",
    "        nodes = subgraph.nodes()\n",
    "        if len(nodes) >= min_nodes:\n",
    "            results[', '.join(nodes.keys())] = [icd10[node] for node in nodes]\n",
    "    return results"
   ]
  },
  {
   "cell_type": "markdown",
   "metadata": {},
   "source": [
    " "
   ]
  },
  {
   "cell_type": "markdown",
   "metadata": {},
   "source": [
    "GloVe"
   ]
  },
  {
   "cell_type": "markdown",
   "metadata": {},
   "source": [
    " "
   ]
  },
  {
   "cell_type": "code",
   "execution_count": 4,
   "metadata": {},
   "outputs": [],
   "source": [
    "glove50 = nx.read_edgelist('glove_analysis/50/graph_glove50_1000')\n",
    "glove150 = nx.read_edgelist('glove_analysis/150/graph_glove_1000')"
   ]
  },
  {
   "cell_type": "code",
   "execution_count": 5,
   "metadata": {},
   "outputs": [],
   "source": [
    "described_glove50 = retrieve_titles_for_subgraph(glove50, get_icd10_codes())\n",
    "described_glove150 = retrieve_titles_for_subgraph(glove150, get_icd10_codes())"
   ]
  },
  {
   "cell_type": "code",
   "execution_count": 7,
   "metadata": {},
   "outputs": [
    {
     "data": {
      "text/plain": [
       "(241, 238)"
      ]
     },
     "execution_count": 7,
     "metadata": {},
     "output_type": "execute_result"
    }
   ],
   "source": [
    "len(described_glove50), len(described_glove150)"
   ]
  },
  {
   "cell_type": "code",
   "execution_count": 8,
   "metadata": {},
   "outputs": [
    {
     "data": {
      "text/plain": [
       "0"
      ]
     },
     "execution_count": 8,
     "metadata": {},
     "output_type": "execute_result"
    }
   ],
   "source": [
    "len(set(described_glove50.keys()).intersection(described_glove150.keys()))"
   ]
  },
  {
   "cell_type": "markdown",
   "metadata": {},
   "source": [
    " "
   ]
  },
  {
   "cell_type": "markdown",
   "metadata": {},
   "source": [
    "dbow"
   ]
  },
  {
   "cell_type": "code",
   "execution_count": 8,
   "metadata": {},
   "outputs": [],
   "source": [
    "doc2vec50 = nx.read_edgelist('doc2vec_analysis/50/graph_1000')\n",
    "doc2vec = nx.read_edgelist('doc2vec_analysis/150/graph_1000')"
   ]
  },
  {
   "cell_type": "code",
   "execution_count": 9,
   "metadata": {},
   "outputs": [],
   "source": [
    "described_doc2vec50 = retrieve_titles_for_subgraph(doc2vec50, get_icd10_codes())\n",
    "described_doc2vec150 = retrieve_titles_for_subgraph(doc2vec, get_icd10_codes())"
   ]
  },
  {
   "cell_type": "code",
   "execution_count": 10,
   "metadata": {},
   "outputs": [
    {
     "data": {
      "text/plain": [
       "(228, 228)"
      ]
     },
     "execution_count": 10,
     "metadata": {},
     "output_type": "execute_result"
    }
   ],
   "source": [
    "len(described_doc2vec50), len(described_doc2vec150)"
   ]
  },
  {
   "cell_type": "code",
   "execution_count": 17,
   "metadata": {
    "scrolled": true
   },
   "outputs": [
    {
     "data": {
      "text/plain": [
       "211"
      ]
     },
     "execution_count": 17,
     "metadata": {},
     "output_type": "execute_result"
    }
   ],
   "source": [
    "len(set(described_doc2vec50).intersection(set(described_doc2vec150)))"
   ]
  },
  {
   "cell_type": "markdown",
   "metadata": {},
   "source": [
    " "
   ]
  },
  {
   "cell_type": "markdown",
   "metadata": {},
   "source": [
    "dm"
   ]
  },
  {
   "cell_type": "code",
   "execution_count": 12,
   "metadata": {},
   "outputs": [],
   "source": [
    "doc2vec50_dm = nx.read_edgelist('doc2vec_analysis/dm/50/graph_1000')\n",
    "doc2vec_dm = nx.read_edgelist('doc2vec_analysis/dm/150/graph_1000')"
   ]
  },
  {
   "cell_type": "code",
   "execution_count": 13,
   "metadata": {},
   "outputs": [],
   "source": [
    "described_doc2vec50_dm = retrieve_titles_for_subgraph(doc2vec50_dm, get_icd10_codes())\n",
    "described_doc2vec150_dm = retrieve_titles_for_subgraph(doc2vec_dm, get_icd10_codes())"
   ]
  },
  {
   "cell_type": "code",
   "execution_count": 24,
   "metadata": {
    "scrolled": true
   },
   "outputs": [
    {
     "data": {
      "text/plain": [
       "(234, 249)"
      ]
     },
     "execution_count": 24,
     "metadata": {},
     "output_type": "execute_result"
    }
   ],
   "source": [
    "len(described_doc2vec50_dm.keys()), len(described_doc2vec150_dm.keys())"
   ]
  },
  {
   "cell_type": "markdown",
   "metadata": {},
   "source": [
    " "
   ]
  },
  {
   "cell_type": "markdown",
   "metadata": {},
   "source": [
    "Overlap between models"
   ]
  },
  {
   "cell_type": "code",
   "execution_count": 71,
   "metadata": {},
   "outputs": [],
   "source": [
    "def get_overlap(a, b):\n",
    "    results = defaultdict(list)\n",
    "    for key1 in a.keys():\n",
    "        codes = set(key1.split(', '))\n",
    "        codes_intersection = [codes.intersection(key2.split(', ')) for key2 in b.keys() if len(codes.intersection(key2.split(', '))) > 2]\n",
    "        if codes_intersection:\n",
    "            results[key1] = codes_intersection\n",
    "    return results"
   ]
  },
  {
   "cell_type": "code",
   "execution_count": 72,
   "metadata": {},
   "outputs": [
    {
     "data": {
      "text/plain": [
       "defaultdict(list,\n",
       "            {'a209, n08, k282, a240, p540, d179, l138, b182, g518, g219, p139, p371, r42, r401, r290, q263, a233, e311': [{'b182',\n",
       "               'g219',\n",
       "               'r42'}],\n",
       "             'k77, a054, e275, l80, e321, b150, r450, c169, f340, c189, b03, e214, c300': [{'b150',\n",
       "               'c169',\n",
       "               'c189'}],\n",
       "             'm130, b873, y753, d271, k810, h6000': [{'b873', 'd271', 'y753'}],\n",
       "             'n420, n913, d471, n398, p0700, b169, p0736': [{'d471',\n",
       "               'n420',\n",
       "               'p0736'}],\n",
       "             'p220, p190, k30, c140, r17': [{'c140', 'k30', 'p190'}]})"
      ]
     },
     "execution_count": 72,
     "metadata": {},
     "output_type": "execute_result"
    }
   ],
   "source": [
    "glove_overlap = get_overlap(described_glove50, described_glove150)\n",
    "glove_overlap"
   ]
  },
  {
   "cell_type": "code",
   "execution_count": 73,
   "metadata": {},
   "outputs": [
    {
     "data": {
      "text/plain": [
       "defaultdict(list,\n",
       "            {'c165, q140, p550, d023, n393, g729, c384, r239': [{'d023',\n",
       "               'g729',\n",
       "               'q140'}],\n",
       "             'f341, n806, n412, f79, n171, n760, n649, r067, p100, n318': [{'f341',\n",
       "               'n412',\n",
       "               'n806'}],\n",
       "             'n359, a238, e800, p260, n403, n926, d71, l605, h5332, n158, n184, n365, n182, n804, d010': [{'e800',\n",
       "               'l605',\n",
       "               'n182'}]})"
      ]
     },
     "execution_count": 73,
     "metadata": {},
     "output_type": "execute_result"
    }
   ],
   "source": [
    "doc2vec_overlap = get_overlap(described_doc2vec50_dm, described_doc2vec150_dm)\n",
    "doc2vec_overlap"
   ]
  },
  {
   "cell_type": "code",
   "execution_count": 74,
   "metadata": {},
   "outputs": [],
   "source": [
    "overlap = {**doc2vec_overlap, **glove_overlap}"
   ]
  },
  {
   "cell_type": "code",
   "execution_count": 75,
   "metadata": {
    "scrolled": true
   },
   "outputs": [
    {
     "data": {
      "text/plain": [
       "{'a209, n08, k282, a240, p540, d179, l138, b182, g518, g219, p139, p371, r42, r401, r290, q263, a233, e311': [{'b182',\n",
       "   'g219',\n",
       "   'r42'}],\n",
       " 'c165, q140, p550, d023, n393, g729, c384, r239': [{'d023', 'g729', 'q140'}],\n",
       " 'f341, n806, n412, f79, n171, n760, n649, r067, p100, n318': [{'f341',\n",
       "   'n412',\n",
       "   'n806'}],\n",
       " 'k77, a054, e275, l80, e321, b150, r450, c169, f340, c189, b03, e214, c300': [{'b150',\n",
       "   'c169',\n",
       "   'c189'}],\n",
       " 'm130, b873, y753, d271, k810, h6000': [{'b873', 'd271', 'y753'}],\n",
       " 'n359, a238, e800, p260, n403, n926, d71, l605, h5332, n158, n184, n365, n182, n804, d010': [{'e800',\n",
       "   'l605',\n",
       "   'n182'}],\n",
       " 'n420, n913, d471, n398, p0700, b169, p0736': [{'d471', 'n420', 'p0736'}],\n",
       " 'p220, p190, k30, c140, r17': [{'c140', 'k30', 'p190'}]}"
      ]
     },
     "execution_count": 75,
     "metadata": {},
     "output_type": "execute_result"
    }
   ],
   "source": [
    "overlap"
   ]
  },
  {
   "cell_type": "code",
   "execution_count": 80,
   "metadata": {},
   "outputs": [],
   "source": [
    "icd10 = get_icd10_codes()\n",
    "with open('overlap', 'w+') as output_file:  \n",
    "    for _, codes in overlap.items():\n",
    "        output_file.write('{}:\\n'.format(', '.join(codes[0])))\n",
    "        output_file.write('{}\\n'.format('\\n'.join([icd10[code] for code in codes[0]])))\n",
    "        output_file.write('\\n')"
   ]
  }
 ],
 "metadata": {
  "kernelspec": {
   "display_name": "Python 3",
   "language": "python",
   "name": "python3"
  },
  "language_info": {
   "codemirror_mode": {
    "name": "ipython",
    "version": 3
   },
   "file_extension": ".py",
   "mimetype": "text/x-python",
   "name": "python",
   "nbconvert_exporter": "python",
   "pygments_lexer": "ipython3",
   "version": "3.5.1"
  }
 },
 "nbformat": 4,
 "nbformat_minor": 2
}
