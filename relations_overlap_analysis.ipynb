{
 "cells": [
  {
   "cell_type": "code",
   "execution_count": 1,
   "metadata": {},
   "outputs": [],
   "source": [
    "from pprint import pprint\n",
    "import numpy as np\n",
    "import random\n",
    "from collections import defaultdict\n",
    "from tqdm import tqdm\n",
    "from joblib import Parallel, delayed\n",
    "import networkx as nx"
   ]
  },
  {
   "cell_type": "code",
   "execution_count": 2,
   "metadata": {},
   "outputs": [],
   "source": [
    "def get_icd10_codes():\n",
    "    icd10 = defaultdict()\n",
    "    with open('../results/icd10cm_codes_2018.txt', 'r+') as f:\n",
    "        for line in f.readlines():\n",
    "            line = line.split()\n",
    "            icd10[line[0].lower()] = ' '.join(line[1:]).lower()\n",
    "        return icd10\n",
    "\n",
    "def retrieve_titles_for_subgraph(graph, icd10, min_nodes=3):\n",
    "    subgraphs = list(nx.connected_component_subgraphs(graph))\n",
    "    results = defaultdict(list)\n",
    "    for subgraph in subgraphs:\n",
    "        nodes = subgraph.nodes()\n",
    "        if len(nodes) >= min_nodes:\n",
    "            results[', '.join(nodes.keys())] = [icd10[node] for node in nodes]\n",
    "    return results"
   ]
  },
  {
   "cell_type": "markdown",
   "metadata": {},
   "source": [
    " "
   ]
  },
  {
   "cell_type": "markdown",
   "metadata": {},
   "source": [
    "GloVe"
   ]
  },
  {
   "cell_type": "markdown",
   "metadata": {},
   "source": [
    " "
   ]
  },
  {
   "cell_type": "code",
   "execution_count": 4,
   "metadata": {},
   "outputs": [],
   "source": [
    "glove50 = nx.read_edgelist('glove_analysis/50/graph_glove50_1000')\n",
    "glove150 = nx.read_edgelist('glove_analysis/150/graph_glove_1000')"
   ]
  },
  {
   "cell_type": "code",
   "execution_count": 5,
   "metadata": {},
   "outputs": [],
   "source": [
    "described_glove50 = retrieve_titles_for_subgraph(glove50, get_icd10_codes())\n",
    "described_glove150 = retrieve_titles_for_subgraph(glove150, get_icd10_codes())"
   ]
  },
  {
   "cell_type": "code",
   "execution_count": 7,
   "metadata": {},
   "outputs": [
    {
     "data": {
      "text/plain": [
       "(241, 238)"
      ]
     },
     "execution_count": 7,
     "metadata": {},
     "output_type": "execute_result"
    }
   ],
   "source": [
    "len(described_glove50), len(described_glove150)"
   ]
  },
  {
   "cell_type": "code",
   "execution_count": 8,
   "metadata": {},
   "outputs": [
    {
     "data": {
      "text/plain": [
       "0"
      ]
     },
     "execution_count": 8,
     "metadata": {},
     "output_type": "execute_result"
    }
   ],
   "source": [
    "len(set(described_glove50.keys()).intersection(described_glove150.keys()))"
   ]
  },
  {
   "cell_type": "markdown",
   "metadata": {},
   "source": [
    " "
   ]
  },
  {
   "cell_type": "markdown",
   "metadata": {},
   "source": [
    "dbow"
   ]
  },
  {
   "cell_type": "code",
   "execution_count": 8,
   "metadata": {},
   "outputs": [],
   "source": [
    "doc2vec50 = nx.read_edgelist('doc2vec_analysis/50/graph_1000')\n",
    "doc2vec = nx.read_edgelist('doc2vec_analysis/150/graph_1000')"
   ]
  },
  {
   "cell_type": "code",
   "execution_count": 9,
   "metadata": {},
   "outputs": [],
   "source": [
    "described_doc2vec50 = retrieve_titles_for_subgraph(doc2vec50, get_icd10_codes())\n",
    "described_doc2vec150 = retrieve_titles_for_subgraph(doc2vec, get_icd10_codes())"
   ]
  },
  {
   "cell_type": "code",
   "execution_count": 10,
   "metadata": {},
   "outputs": [
    {
     "data": {
      "text/plain": [
       "(228, 228)"
      ]
     },
     "execution_count": 10,
     "metadata": {},
     "output_type": "execute_result"
    }
   ],
   "source": [
    "len(described_doc2vec50), len(described_doc2vec150)"
   ]
  },
  {
   "cell_type": "code",
   "execution_count": 17,
   "metadata": {
    "scrolled": true
   },
   "outputs": [
    {
     "data": {
      "text/plain": [
       "211"
      ]
     },
     "execution_count": 17,
     "metadata": {},
     "output_type": "execute_result"
    }
   ],
   "source": [
    "len(set(described_doc2vec50).intersection(set(described_doc2vec150)))"
   ]
  },
  {
   "cell_type": "markdown",
   "metadata": {},
   "source": [
    " "
   ]
  },
  {
   "cell_type": "markdown",
   "metadata": {},
   "source": [
    "dm"
   ]
  },
  {
   "cell_type": "code",
   "execution_count": 12,
   "metadata": {},
   "outputs": [],
   "source": [
    "doc2vec50_dm = nx.read_edgelist('doc2vec_analysis/dm/50/graph_1000')\n",
    "doc2vec_dm = nx.read_edgelist('doc2vec_analysis/dm/150/graph_1000')"
   ]
  },
  {
   "cell_type": "code",
   "execution_count": 13,
   "metadata": {},
   "outputs": [],
   "source": [
    "described_doc2vec50_dm = retrieve_titles_for_subgraph(doc2vec50_dm, get_icd10_codes())\n",
    "described_doc2vec150_dm = retrieve_titles_for_subgraph(doc2vec_dm, get_icd10_codes())"
   ]
  },
  {
   "cell_type": "code",
   "execution_count": 24,
   "metadata": {
    "scrolled": true
   },
   "outputs": [
    {
     "data": {
      "text/plain": [
       "(234, 249)"
      ]
     },
     "execution_count": 24,
     "metadata": {},
     "output_type": "execute_result"
    }
   ],
   "source": [
    "len(described_doc2vec50_dm.keys()), len(described_doc2vec150_dm.keys())"
   ]
  },
  {
   "cell_type": "markdown",
   "metadata": {},
   "source": [
    " "
   ]
  },
  {
   "cell_type": "markdown",
   "metadata": {},
   "source": [
    "Overlap between models"
   ]
  },
  {
   "cell_type": "code",
   "execution_count": 9,
   "metadata": {},
   "outputs": [],
   "source": [
    "def get_overlap(a, b):\n",
    "    results = defaultdict(list)\n",
    "    for key1 in a.keys():\n",
    "        codes = set(key1.split(', '))\n",
    "        codes_intersection = [codes.intersection(key2.split(', ')) for key2 in b.keys() if len(codes.intersection(key2.split(', '))) >= 2]\n",
    "        if codes_intersection:\n",
    "            results[key1] = codes_intersection\n",
    "    return results"
   ]
  },
  {
   "cell_type": "code",
   "execution_count": 12,
   "metadata": {},
   "outputs": [
    {
     "data": {
      "text/plain": [
       "defaultdict(list,\n",
       "            {'a054, e214, c189, k77, b03, c169, c300, r450, b150, e321, l80, e275, f340': [{'b150',\n",
       "               'c169',\n",
       "               'c189'}],\n",
       "             'b159, d492, r188, p290, e250, a440, a311, c463, e163': [{'c463',\n",
       "               'e163'},\n",
       "              {'b159', 'e250'}],\n",
       "             'b510, d298, n410, r239': [{'d298', 'r239'}],\n",
       "             'c001, h7402, q300, c461, b54, f1394': [{'c461', 'q300'}],\n",
       "             'c119, a200, k560, g311, m273, p151, h1703': [{'h1703', 'm273'}],\n",
       "             'c154, k143, m152': [{'k143', 'm152'}],\n",
       "             'c158, d191, f59, q209, p570, j101, k353': [{'f59', 'q209'}],\n",
       "             'c162, c37, d241, r295, r142, k144, b5801, f553, d251, o68, d127': [{'b5801',\n",
       "               'd241'},\n",
       "              {'d251', 'k144'}],\n",
       "             'c250, f411, p390': [{'f411', 'p390'}],\n",
       "             'c601, i32, a190, l550, p155': [{'i32', 'p155'}],\n",
       "             'c721, n201, e222, k270, k310, y751': [{'e222', 'k310'}],\n",
       "             'c73, c113, e041, c184, r261': [{'e041', 'r261'}],\n",
       "             'd102, b49, a250': [{'b49', 'd102'}],\n",
       "             'd332, l131, d175, n651, o132, p521, c155': [{'l131', 'p521'}],\n",
       "             'd471, n420, n913, n398, p0700, b169, p0736': [{'d471',\n",
       "               'n420',\n",
       "               'p0736'}],\n",
       "             'e02, a64, f410, m300, g500, r600, a86, k111': [{'e02', 'k111'}],\n",
       "             'e68, d197, i280, z551, d117': [{'d117', 'i280'}],\n",
       "             'f429, n478, r0789, n610, q103, k269, b460': [{'b460', 'r0789'},\n",
       "              {'n478', 'n610'}],\n",
       "             'f600, g230, q110, d230': [{'d230', 'q110'}],\n",
       "             'g113, n403, b442, k436': [{'g113', 'n403'}],\n",
       "             'i10, g212, k812, r330, d595, d144, n841, a288, b92, i161, d010': [{'d595',\n",
       "               'n841'}],\n",
       "             'i130, e229, m180, k289, c720, d431': [{'d431', 'e229'}],\n",
       "             'k200, n801, h28, d282, f451, l442, r109, f324': [{'d282',\n",
       "               'r109'}],\n",
       "             'k228, a360, c139, i480': [{'a360', 'i480'}],\n",
       "             'k254, k027, m303, r292, f22, m720': [{'m303', 'r292'}],\n",
       "             'k279, r454, y750, k005': [{'k005', 'k279'}],\n",
       "             'k600, r194, r152, p141, r180, k469, h209': [{'h209', 'r180'}],\n",
       "             'l122, p510, a222, h36, d269': [{'d269', 'l122'}],\n",
       "             'm130, b873, y753, d271, h6000, k810': [{'b873', 'd271', 'y753'}],\n",
       "             'm153, a568, k601, e3123, a182, b59, e1100, q105, d612, p551': [{'d612',\n",
       "               'e1100'},\n",
       "              {'m153', 'p551'}],\n",
       "             'm169, j111, k224, g59, m5114, i213': [{'m169', 'm5114'}],\n",
       "             'm351, r202, r0601, k604': [{'m351', 'r0601'}],\n",
       "             'n250, n150, r066, p016': [{'n150', 'n250'}],\n",
       "             'n736, k219, d020, k131, l00': [{'d020', 'n736'}],\n",
       "             'n840, f89, l250': [{'f89', 'n840'}],\n",
       "             'n926, l110, d550, r338, a660, r150, p365': [{'l110', 'p365'}],\n",
       "             'o280, n012, r351, c178, g130, f630, k118': [{'c178', 'g130'}],\n",
       "             'p231, e001, b812, f258, p0511': [{'p0511', 'p231'}],\n",
       "             'q122, d152, d65, q213, l402': [{'d152', 'q213'},\n",
       "              {'l402', 'q122'}],\n",
       "             'r102, a208, l42, d250': [{'d250', 'r102'}],\n",
       "             'r17, p220, c140, k30, p190': [{'c140', 'k30', 'p190'}],\n",
       "             'r290, p139, a233, g518, r42, p371, k282, d179, p540, e311, a209, b182, n08, a240, r401, g219, q263, l138': [{'a233',\n",
       "               'e311'},\n",
       "              {'d179', 'q263'},\n",
       "              {'r290', 'r401'},\n",
       "              {'b182', 'g219', 'r42'}],\n",
       "             'r34, e60, a303': [{'a303', 'e60'}],\n",
       "             'r52, h189, m174, i150, d259, e164, d142, k130, y731': [{'m174',\n",
       "               'y731'}]})"
      ]
     },
     "execution_count": 12,
     "metadata": {},
     "output_type": "execute_result"
    }
   ],
   "source": [
    "glove_overlap = get_overlap(described_glove50, described_glove150)\n",
    "glove_overlap"
   ]
  },
  {
   "cell_type": "code",
   "execution_count": 73,
   "metadata": {},
   "outputs": [
    {
     "data": {
      "text/plain": [
       "defaultdict(list,\n",
       "            {'c165, q140, p550, d023, n393, g729, c384, r239': [{'d023',\n",
       "               'g729',\n",
       "               'q140'}],\n",
       "             'f341, n806, n412, f79, n171, n760, n649, r067, p100, n318': [{'f341',\n",
       "               'n412',\n",
       "               'n806'}],\n",
       "             'n359, a238, e800, p260, n403, n926, d71, l605, h5332, n158, n184, n365, n182, n804, d010': [{'e800',\n",
       "               'l605',\n",
       "               'n182'}]})"
      ]
     },
     "execution_count": 73,
     "metadata": {},
     "output_type": "execute_result"
    }
   ],
   "source": [
    "doc2vec_overlap = get_overlap(described_doc2vec50_dm, described_doc2vec150_dm)\n",
    "doc2vec_overlap"
   ]
  },
  {
   "cell_type": "code",
   "execution_count": 74,
   "metadata": {},
   "outputs": [],
   "source": [
    "overlap = {**doc2vec_overlap, **glove_overlap}"
   ]
  },
  {
   "cell_type": "code",
   "execution_count": 75,
   "metadata": {
    "scrolled": true
   },
   "outputs": [
    {
     "data": {
      "text/plain": [
       "{'a209, n08, k282, a240, p540, d179, l138, b182, g518, g219, p139, p371, r42, r401, r290, q263, a233, e311': [{'b182',\n",
       "   'g219',\n",
       "   'r42'}],\n",
       " 'c165, q140, p550, d023, n393, g729, c384, r239': [{'d023', 'g729', 'q140'}],\n",
       " 'f341, n806, n412, f79, n171, n760, n649, r067, p100, n318': [{'f341',\n",
       "   'n412',\n",
       "   'n806'}],\n",
       " 'k77, a054, e275, l80, e321, b150, r450, c169, f340, c189, b03, e214, c300': [{'b150',\n",
       "   'c169',\n",
       "   'c189'}],\n",
       " 'm130, b873, y753, d271, k810, h6000': [{'b873', 'd271', 'y753'}],\n",
       " 'n359, a238, e800, p260, n403, n926, d71, l605, h5332, n158, n184, n365, n182, n804, d010': [{'e800',\n",
       "   'l605',\n",
       "   'n182'}],\n",
       " 'n420, n913, d471, n398, p0700, b169, p0736': [{'d471', 'n420', 'p0736'}],\n",
       " 'p220, p190, k30, c140, r17': [{'c140', 'k30', 'p190'}]}"
      ]
     },
     "execution_count": 75,
     "metadata": {},
     "output_type": "execute_result"
    }
   ],
   "source": [
    "overlap"
   ]
  },
  {
   "cell_type": "code",
   "execution_count": 80,
   "metadata": {},
   "outputs": [],
   "source": [
    "icd10 = get_icd10_codes()\n",
    "with open('overlap', 'w+') as output_file:  \n",
    "    for _, codes in overlap.items():\n",
    "        output_file.write('{}:\\n'.format(', '.join(codes[0])))\n",
    "        output_file.write('{}\\n'.format('\\n'.join([icd10[code] for code in codes[0]])))\n",
    "        output_file.write('\\n')"
   ]
  }
 ],
 "metadata": {
  "kernelspec": {
   "display_name": "Python 3",
   "language": "python",
   "name": "python3"
  },
  "language_info": {
   "codemirror_mode": {
    "name": "ipython",
    "version": 3
   },
   "file_extension": ".py",
   "mimetype": "text/x-python",
   "name": "python",
   "nbconvert_exporter": "python",
   "pygments_lexer": "ipython3",
   "version": "3.5.1"
  }
 },
 "nbformat": 4,
 "nbformat_minor": 2
}
