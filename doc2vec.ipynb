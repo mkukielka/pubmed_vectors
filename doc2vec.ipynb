{
 "cells": [
  {
   "cell_type": "code",
   "execution_count": 30,
   "metadata": {},
   "outputs": [],
   "source": [
    "from multiprocessing import Pool, cpu_count\n",
    "import numpy as np\n",
    "from gensim.models import doc2vec\n",
    "from smart_open import smart_open\n",
    "\n",
    "\n",
    "def split_words(text):\n",
    "    return text.split()\n",
    "\n",
    "\n",
    "def load_corpus(corpus_file, doc2vec_format=True):\n",
    "    \"\"\"Returns articles from corpus. If doc2vec_format is choosen, then articles are converted\n",
    "    to TaggedDocument in order to meet doc2vec's required format.\"\"\"\n",
    "    with smart_open(corpus_file, 'r+') as corpus, Pool(cpu_count()) as p:\n",
    "        for index, article in enumerate(p.imap(split_words, corpus)):\n",
    "            yield doc2vec.TaggedDocument(article, [index]) if doc2vec_format else article\n",
    "\n",
    "def train_vectors(path, vector_size=5, min_count=10, epochs=30, local_context=150, workers=16):\n",
    "    corpus = list(load_corpus(path))\n",
    "    model150 = doc2vec.Doc2Vec(vector_size=vector_size, min_count=min_count, epochs=epochs, \n",
    "                               window=local_context, workers=workers)\n",
    "    model150.build_vocab(corpus)\n",
    "    model150.train(corpus, total_examples=model150.corpus_count, epochs=model150.epochs)\n",
    "    model150.save('model150')"
   ]
  },
  {
   "cell_type": "code",
   "execution_count": null,
   "metadata": {},
   "outputs": [],
   "source": []
  }
 ],
 "metadata": {
  "kernelspec": {
   "display_name": "Python 3",
   "language": "python",
   "name": "python3"
  },
  "language_info": {
   "codemirror_mode": {
    "name": "ipython",
    "version": 3
   },
   "file_extension": ".py",
   "mimetype": "text/x-python",
   "name": "python",
   "nbconvert_exporter": "python",
   "pygments_lexer": "ipython3",
   "version": "3.5.1"
  }
 },
 "nbformat": 4,
 "nbformat_minor": 2
}
