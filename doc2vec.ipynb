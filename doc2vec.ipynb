{
 "cells": [
  {
   "cell_type": "code",
   "execution_count": 1,
   "metadata": {},
   "outputs": [],
   "source": [
    "from multiprocessing import Pool, cpu_count\n",
    "from gensim.test.test_doc2vec import ConcatenatedDoc2Vec\n",
    "from gensim.models import doc2vec\n",
    "from pprint import pprint\n",
    "import logging\n",
    "logging.basicConfig(format='%(asctime)s : %(levelname)s : %(message)s', level=logging.INFO)\n",
    "import numpy as np\n",
    "import random\n",
    "import smart_open\n",
    "from collections import defaultdict\n",
    "\n",
    "def train_vectors(path, local_context=150, name=''):\n",
    "    model = doc2vec.Doc2Vec(corpus_file=path, vector_size=2, negative=5, sample=1e-5, dbow_words=1,\n",
    "                               min_count=10, window=local_context, workers=4, epochs=30)\n",
    "    model.train(corpus_file=path, total_words=model.corpus_count, epochs=model.epochs)\n",
    "    model.save(name if name else 'trained_model{}'.format(local_context))"
   ]
  },
  {
   "cell_type": "code",
   "execution_count": 2,
   "metadata": {
    "collapsed": true
   },
   "outputs": [
    {
     "name": "stderr",
     "output_type": "stream",
     "text": [
      "2019-02-24 21:32:43,774 : INFO : loading Doc2Vec object from /Users/michalkukielka/Desktop/licencjat/vectors/doc2vec_data/data150/model150_trained\n",
      "2019-02-24 21:32:50,369 : INFO : loading vocabulary recursively from /Users/michalkukielka/Desktop/licencjat/vectors/doc2vec_data/data150/model150_trained.vocabulary.* with mmap=None\n",
      "2019-02-24 21:32:50,370 : INFO : loading docvecs recursively from /Users/michalkukielka/Desktop/licencjat/vectors/doc2vec_data/data150/model150_trained.docvecs.* with mmap=None\n",
      "2019-02-24 21:32:50,373 : INFO : loading vectors_docs from /Users/michalkukielka/Desktop/licencjat/vectors/doc2vec_data/data150/model150_trained.docvecs.vectors_docs.npy with mmap=None\n",
      "2019-02-24 21:32:50,959 : INFO : loading wv recursively from /Users/michalkukielka/Desktop/licencjat/vectors/doc2vec_data/data150/model150_trained.wv.* with mmap=None\n",
      "2019-02-24 21:32:50,961 : INFO : loading trainables recursively from /Users/michalkukielka/Desktop/licencjat/vectors/doc2vec_data/data150/model150_trained.trainables.* with mmap=None\n",
      "2019-02-24 21:32:50,963 : INFO : loading vectors_docs_lockf from /Users/michalkukielka/Desktop/licencjat/vectors/doc2vec_data/data150/model150_trained.trainables.vectors_docs_lockf.npy with mmap=None\n",
      "2019-02-24 21:32:51,263 : INFO : loaded /Users/michalkukielka/Desktop/licencjat/vectors/doc2vec_data/data150/model150_trained\n",
      "2019-02-24 21:32:55,566 : INFO : loading Doc2Vec object from /Users/michalkukielka/Desktop/licencjat/vectors/doc2vec_data/glove-vectors-final2/model150_trained_cbow\n",
      "2019-02-24 21:33:04,547 : INFO : loading vocabulary recursively from /Users/michalkukielka/Desktop/licencjat/vectors/doc2vec_data/glove-vectors-final2/model150_trained_cbow.vocabulary.* with mmap=None\n",
      "2019-02-24 21:33:04,549 : INFO : loading docvecs recursively from /Users/michalkukielka/Desktop/licencjat/vectors/doc2vec_data/glove-vectors-final2/model150_trained_cbow.docvecs.* with mmap=None\n",
      "2019-02-24 21:33:04,550 : INFO : loading vectors_docs from /Users/michalkukielka/Desktop/licencjat/vectors/doc2vec_data/glove-vectors-final2/model150_trained_cbow.docvecs.vectors_docs.npy with mmap=None\n",
      "2019-02-24 21:33:05,271 : INFO : loading wv recursively from /Users/michalkukielka/Desktop/licencjat/vectors/doc2vec_data/glove-vectors-final2/model150_trained_cbow.wv.* with mmap=None\n",
      "2019-02-24 21:33:05,285 : INFO : loading trainables recursively from /Users/michalkukielka/Desktop/licencjat/vectors/doc2vec_data/glove-vectors-final2/model150_trained_cbow.trainables.* with mmap=None\n",
      "2019-02-24 21:33:05,288 : INFO : loading vectors_docs_lockf from /Users/michalkukielka/Desktop/licencjat/vectors/doc2vec_data/glove-vectors-final2/model150_trained_cbow.trainables.vectors_docs_lockf.npy with mmap=None\n",
      "2019-02-24 21:33:05,954 : INFO : loaded /Users/michalkukielka/Desktop/licencjat/vectors/doc2vec_data/glove-vectors-final2/model150_trained_cbow\n"
     ]
    }
   ],
   "source": [
    "modeldm = doc2vec.Doc2Vec.load('/Users/michalkukielka/Desktop/licencjat/vectors/doc2vec_data/data150/model150_trained')\n",
    "modelcbow = doc2vec.Doc2Vec.load('/Users/michalkukielka/Desktop/licencjat/vectors/doc2vec_data/glove-vectors-final2/model150_trained_cbow')\n",
    "# modelcbow50 = doc2vec.Doc2Vec.load('../vectors/doc2vec_data/glove-vectors-final2/model50_trained_cbow')\n",
    "# modeldm50 = doc2vec.Doc2Vec.load('../vectors/doc2vec_data/data50/model50_trained')\n",
    "# concat_model = ConcatenatedDoc2Vec(models=[modeldm, modelcbow])"
   ]
  },
  {
   "cell_type": "markdown",
   "metadata": {},
   "source": [
    "Retriece most similar documents"
   ]
  },
  {
   "cell_type": "code",
   "execution_count": 3,
   "metadata": {},
   "outputs": [],
   "source": [
    "def most_similar_docs(path, model, doc_id):\n",
    "    sims = model.docvecs.most_similar(doc_id, topn=10)\n",
    "    ids = list(map(lambda x: x[0], sims))\n",
    "    return get_docs_for_ids(path, ids)\n",
    "\n",
    "def get_docs_for_ids(path, ids):\n",
    "    if not isinstance(ids, list):\n",
    "        ids = list(ids)\n",
    "    docs = []\n",
    "    with smart_open.smart_open(path, 'r+') as f:\n",
    "        for index, tokens in enumerate(f):\n",
    "            if index in ids:\n",
    "                docs.append('{}: {}'.format(index , tokens))\n",
    "    return docs"
   ]
  },
  {
   "cell_type": "markdown",
   "metadata": {},
   "source": [
    "ICD10 codes"
   ]
  },
  {
   "cell_type": "code",
   "execution_count": 4,
   "metadata": {},
   "outputs": [],
   "source": [
    "icd10 = defaultdict()\n",
    "with open('../vectors/icd10cm_codes_2018.txt', 'r+') as f:\n",
    "    for line in f.readlines():\n",
    "        line = line.split()\n",
    "        icd10[line[0]] = ' '.join(line[1:])"
   ]
  },
  {
   "cell_type": "markdown",
   "metadata": {},
   "source": [
    "Get most similar words for code"
   ]
  },
  {
   "cell_type": "code",
   "execution_count": 5,
   "metadata": {},
   "outputs": [],
   "source": [
    "def most_similar_for_icd10(model, codes=icd10):\n",
    "    results = defaultdict()\n",
    "    for key in icd10.keys():\n",
    "        try:\n",
    "            results[key] = modelcbow.wv.most_similar(key.lower(), topn=20)\n",
    "        except KeyError:\n",
    "            pass\n",
    "    return results"
   ]
  },
  {
   "cell_type": "code",
   "execution_count": null,
   "metadata": {},
   "outputs": [],
   "source": [
    "results_cbow150 = most_similar_for_icd10(model=modelcbow, codes=icd10)\n",
    "results_cbow50 = most_similar_for_icd10(model=modelcbow50, codes=icd10)"
   ]
  },
  {
   "cell_type": "markdown",
   "metadata": {},
   "source": [
    "Saving output"
   ]
  },
  {
   "cell_type": "code",
   "execution_count": null,
   "metadata": {},
   "outputs": [],
   "source": [
    "with open('doc2vec_output50', 'w+') as output_file:  \n",
    "    for key, words in results_cbow50.items():\n",
    "        output_file.write('{}: {}\\n'.format(key, ' '.join(\n",
    "            list(map(lambda x: x[0], words)))))"
   ]
  },
  {
   "cell_type": "markdown",
   "metadata": {},
   "source": [
    "Find most similar docs by icd10 title"
   ]
  },
  {
   "cell_type": "code",
   "execution_count": 14,
   "metadata": {},
   "outputs": [],
   "source": [
    "# infer all titles in order to add new words to vocabulary\n",
    "for key, title in icd10.items():\n",
    "    vector = modelcbow.infer_vector(title.lower().split())\n",
    "    most_similar_docs(doc_id=[x], model=modelcbow, path='../vectors/corpus.txt')"
   ]
  },
  {
   "cell_type": "code",
   "execution_count": null,
   "metadata": {},
   "outputs": [],
   "source": []
  }
 ],
 "metadata": {
  "kernelspec": {
   "display_name": "Python 3",
   "language": "python",
   "name": "python3"
  },
  "language_info": {
   "codemirror_mode": {
    "name": "ipython",
    "version": 3
   },
   "file_extension": ".py",
   "mimetype": "text/x-python",
   "name": "python",
   "nbconvert_exporter": "python",
   "pygments_lexer": "ipython3",
   "version": "3.5.1"
  }
 },
 "nbformat": 4,
 "nbformat_minor": 2
}
